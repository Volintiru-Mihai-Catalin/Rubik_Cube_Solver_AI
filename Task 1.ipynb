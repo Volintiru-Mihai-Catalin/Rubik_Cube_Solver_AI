{
 "cells": [
  {
   "cell_type": "markdown",
   "id": "e44032ac",
   "metadata": {},
   "source": [
    "# A* AND BIDIRECTIONAL BFS"
   ]
  },
  {
   "cell_type": "markdown",
   "id": "6757ba77",
   "metadata": {},
   "source": [
    "## Imports"
   ]
  },
  {
   "cell_type": "markdown",
   "id": "d217a271",
   "metadata": {},
   "source": [
    "These are all the imports needed to solve this task:"
   ]
  },
  {
   "cell_type": "code",
   "execution_count": 1,
   "id": "d5f2b852",
   "metadata": {},
   "outputs": [],
   "source": [
    "from heapq import heappop, heappush\n",
    "from pocket_cube.cube import Cube\n",
    "from pocket_cube.cube import Move\n",
    "from tests import case1, case2, case3, case4\n",
    "import numpy as np\n",
    "import matplotlib.pyplot as plt\n",
    "\n",
    "%matplotlib notebook"
   ]
  },
  {
   "cell_type": "markdown",
   "id": "5ee6ecf8",
   "metadata": {},
   "source": [
    "## Test cases"
   ]
  },
  {
   "cell_type": "markdown",
   "id": "16ce6267",
   "metadata": {},
   "source": [
    "These are the test cases that will be used to run and compare the algorithms:"
   ]
  },
  {
   "cell_type": "code",
   "execution_count": 2,
   "id": "a7bf4e75",
   "metadata": {},
   "outputs": [],
   "source": [
    "cube1 = Cube(case1)\n",
    "cube2 = Cube(case2)\n",
    "cube3 = Cube(case3)\n",
    "cube4 = Cube(case4)"
   ]
  },
  {
   "cell_type": "markdown",
   "id": "63f6d1ed",
   "metadata": {},
   "source": [
    " "
   ]
  },
  {
   "cell_type": "markdown",
   "id": "95d509db",
   "metadata": {},
   "source": [
    "## A* algorithm"
   ]
  },
  {
   "cell_type": "markdown",
   "id": "056f879f",
   "metadata": {},
   "source": [
    "In order to implement the A* algorithm I used: <br>\n",
    "- a priority queue to store all the possible routes generated from a position and their corresponding cost\n",
    "- a hash map (dictionary) to store the parents and children. <br> \n",
    "#### The heuristic function:\n",
    "The heuristic function calculates all the different colors compared to the goal state of the algorithm and then divides it by 8 (because every move will displace 8 colors from their original spot), making it an admissible function"
   ]
  },
  {
   "cell_type": "code",
   "execution_count": 6,
   "id": "04753bea",
   "metadata": {},
   "outputs": [],
   "source": [
    "def heuristic_score(cube):\n",
    "        score = 0\n",
    "        for i in range(len(cube.state)):\n",
    "            if cube.goal_state[i] != cube.state[i]:\n",
    "                score += 1\n",
    "    \n",
    "        return score / 8"
   ]
  },
  {
   "cell_type": "markdown",
   "id": "55bff1c6",
   "metadata": {},
   "source": [
    "### Some functions that will help solve the cube:"
   ]
  },
  {
   "cell_type": "code",
   "execution_count": 4,
   "id": "0cbe56ff",
   "metadata": {},
   "outputs": [],
   "source": [
    "# compares the current state with the goal state\n",
    "\n",
    "def is_solved_astar(cube):\n",
    "    comparator = cube.goal_state == cube.state\n",
    "    return comparator.all()"
   ]
  },
  {
   "cell_type": "code",
   "execution_count": 5,
   "id": "87233f3b",
   "metadata": {},
   "outputs": [],
   "source": [
    "# generate all neighbours possible using all possible moves\n",
    "\n",
    "def get_neighbours(cube):\n",
    "    return [Cube.move_state(cube.clone_state(), move) for move in range(6)]"
   ]
  },
  {
   "cell_type": "code",
   "execution_count": 6,
   "id": "a9d20201",
   "metadata": {},
   "outputs": [],
   "source": [
    "# the A* algorithn\n",
    "def astar(cube):\n",
    "    priority_queue = []\n",
    "    heappush(priority_queue, (0 + heuristic_score(cube), cube.clone()))\n",
    "    discovered = {cube.hash(): (None, 0)}\n",
    "    \n",
    "    while priority_queue:\n",
    "        current_cost, current_node = heappop(priority_queue)\n",
    "        current_node_hash =current_node.hash() \n",
    "        \n",
    "        if is_solved_astar(current_node):\n",
    "            print(\"solved cube!\")\n",
    "            break\n",
    "        else:\n",
    "            for neighbour in get_neighbours(current_node):\n",
    "                # we iterate trough all the possible neighbours from this\n",
    "                # current state\n",
    "                probe_cube = Cube(scrambled=False)\n",
    "                probe_cube.state = neighbour\n",
    "                probe_cube_hash = probe_cube.hash()\n",
    "                \n",
    "                # calculate the cost\n",
    "                new_cost = discovered[current_node_hash][1] + 1\n",
    "                \n",
    "                # if the state is not inside the hash map or its new cost is smaller\n",
    "                # compared to what we have in the hash map, we add/update it\n",
    "                if probe_cube_hash not in discovered or new_cost < discovered[probe_cube_hash][1]:\n",
    "                    discovered[probe_cube_hash] = (current_node_hash, new_cost)\n",
    "                    heappush(priority_queue, (new_cost + heuristic_score(probe_cube), probe_cube))\n",
    "    \n",
    "    \n",
    "    \n",
    "    solution = []\n",
    "    current_node = current_node.hash()\n",
    "    while current_node is not None:\n",
    "        solution.append(current_node)\n",
    "        current_node, _ = discovered[current_node]\n",
    "    path_len = len(solution) - 1\n",
    "    discovered_nodes = len(discovered)\n",
    "    \n",
    "    print(f\"Total number of nodes discovered: {discovered_nodes}\")\n",
    "    print(f\"Length of the solution is: {path_len}\")\n",
    "    print(f\"Solution is:\\n\")\n",
    "    solution = solution[::-1]\n",
    "    for sol in solution:\n",
    "        print(f\"\\t{sol}\")\n",
    "    \n",
    "    return discovered_nodes, path_len\n",
    "        "
   ]
  },
  {
   "cell_type": "markdown",
   "id": "6b9709a6",
   "metadata": {},
   "source": [
    "### Let's see how well this algorithm performs with the given heuristic"
   ]
  },
  {
   "cell_type": "code",
   "execution_count": 7,
   "id": "80934da0",
   "metadata": {},
   "outputs": [
    {
     "name": "stdout",
     "output_type": "stream",
     "text": [
      "solved cube!\n",
      "Total number of nodes discovered: 374\n",
      "Length of the solution is: 5\n",
      "Solution is:\n",
      "\n",
      "\t255011422234350044103135\n",
      "\t502511322234300144145035\n",
      "\t500111252232303444143550\n",
      "\t550021514242303440113352\n",
      "\t050511114242333340405252\n",
      "\t000011112222333344445555\n",
      "CPU times: total: 15.6 ms\n",
      "Wall time: 19.4 ms\n"
     ]
    }
   ],
   "source": [
    "%%time\n",
    "discovered_nodes_case1_astar, path_len_case1_astar = astar(cube1)"
   ]
  },
  {
   "cell_type": "code",
   "execution_count": 8,
   "id": "e160202c",
   "metadata": {},
   "outputs": [
    {
     "name": "stdout",
     "output_type": "stream",
     "text": [
      "solved cube!\n",
      "Total number of nodes discovered: 5187\n",
      "Length of the solution is: 7\n",
      "Solution is:\n",
      "\n",
      "\t115544133204352340002215\n",
      "\t105043415224352340032115\n",
      "\t001513215224332040445315\n",
      "\t002113245220331540443551\n",
      "\t052121434200331540413255\n",
      "\t051521214243330040415352\n",
      "\t001111222233330044445555\n",
      "\t000011112222333344445555\n",
      "CPU times: total: 266 ms\n",
      "Wall time: 249 ms\n"
     ]
    }
   ],
   "source": [
    "%%time\n",
    "discovered_nodes_case2_astar, path_len_case2_astar = astar(cube2)"
   ]
  },
  {
   "cell_type": "code",
   "execution_count": 9,
   "id": "32b4aa8f",
   "metadata": {},
   "outputs": [
    {
     "name": "stdout",
     "output_type": "stream",
     "text": [
      "solved cube!\n",
      "Total number of nodes discovered: 73309\n",
      "Length of the solution is: 9\n",
      "Solution is:\n",
      "\n",
      "\t311401145205353242254003\n",
      "\t321514013205353240254104\n",
      "\t323214153201350540250441\n",
      "\t343111545201350542220043\n",
      "\t413301045201320242155543\n",
      "\t410401015202323342155354\n",
      "\t410101025233320442153455\n",
      "\t041111525233330442420055\n",
      "\t040411115252333342425050\n",
      "\t000011112222333344445555\n",
      "CPU times: total: 4.03 s\n",
      "Wall time: 4.03 s\n"
     ]
    }
   ],
   "source": [
    "%%time\n",
    "discovered_nodes_case3_astar, path_len_case3_astar = astar(cube3)"
   ]
  },
  {
   "cell_type": "code",
   "execution_count": 10,
   "id": "ff6d1e6d",
   "metadata": {},
   "outputs": [
    {
     "name": "stdout",
     "output_type": "stream",
     "text": [
      "solved cube!\n",
      "Total number of nodes discovered: 836285\n",
      "Length of the solution is: 11\n",
      "Solution is:\n",
      "\n",
      "\t521252101210333445030445\n",
      "\t152202301210303445431545\n",
      "\t153402221230301045434155\n",
      "\t153322025210301043414554\n",
      "\t151022335202301043415445\n",
      "\t131123235242301040455540\n",
      "\t132323425210301140455054\n",
      "\t102442235200301143435155\n",
      "\t041212535200331443420155\n",
      "\t041412125253330043425051\n",
      "\t001111222233330044445555\n",
      "\t000011112222333344445555\n",
      "CPU times: total: 52.8 s\n",
      "Wall time: 52.7 s\n"
     ]
    }
   ],
   "source": [
    "%%time\n",
    "discovered_nodes_case4_astar, path_len_case4_astar = astar(cube4)"
   ]
  },
  {
   "cell_type": "markdown",
   "id": "d490d1b6",
   "metadata": {},
   "source": [
    " "
   ]
  },
  {
   "cell_type": "markdown",
   "id": "be606af7",
   "metadata": {},
   "source": [
    " "
   ]
  },
  {
   "cell_type": "markdown",
   "id": "cafecfb3",
   "metadata": {},
   "source": [
    " "
   ]
  },
  {
   "cell_type": "markdown",
   "id": "2e017cdd",
   "metadata": {},
   "source": [
    "## Bidirectional BFS"
   ]
  },
  {
   "cell_type": "markdown",
   "id": "7e2a1a47",
   "metadata": {},
   "source": [
    "I will define a new function named **compared_states** that resembles the function **is_solved_astar**. Except from this, this algorithm also uses the **get_neighbours** function."
   ]
  },
  {
   "cell_type": "markdown",
   "id": "dd234c08",
   "metadata": {},
   "source": [
    "For this algorithm, I used 2 queues, one that will be used to store the visited nodes discovered when starting from the source (unsolved cube), the other one used to store the visited nodes discovered when starting from the destination (the goal/solved cube). <br>\n",
    "When analyzing a node, if the node is not in the queue of the direction we came from (source / destination) we check to see if it is in the other's queue. If yes, we found our path and the problem is solved."
   ]
  },
  {
   "cell_type": "code",
   "execution_count": 11,
   "id": "c938d64a",
   "metadata": {},
   "outputs": [],
   "source": [
    "# compares the current state with the goal state\n",
    "\n",
    "def compare_states(cube_src, cube_dest):\n",
    "    comparator = cube_src.state == cube_dest.state\n",
    "    return comparator.all()"
   ]
  },
  {
   "cell_type": "code",
   "execution_count": 12,
   "id": "898fc467",
   "metadata": {},
   "outputs": [],
   "source": [
    "# prints the output of the bidirectional_bfs\n",
    "def print_info(visited_src, visited_dest, solution):\n",
    "    print('solved cube!')\n",
    "    discovered_nodes = len(visited_src) + len(visited_dest)\n",
    "    path_len = len(solution) - 1\n",
    "    print(f'Total number of nodes discovered: {discovered_nodes}')\n",
    "    print(f'Length of the solution is: {path_len}')\n",
    "    print(f\"Solution is:\\n\")\n",
    "    for sol in solution:\n",
    "        print(f\"\\t{sol}\")\n",
    "    return discovered_nodes, path_len\n",
    "\n",
    "\n",
    "def bidirect_bfs(cube):\n",
    "    # we create the destination, the goal cube\n",
    "    goal_cube = Cube(scrambled=False)\n",
    "    \n",
    "    if compare_states(cube, goal_cube):\n",
    "        print('Cube already solved')\n",
    "        return 0, 0\n",
    "    \n",
    "    # the queue where we add nodes discovered from the source\n",
    "    queue_src = [cube.clone()]\n",
    "    visited_src = {cube.hash(): [cube.hash()]}\n",
    " \n",
    "    # the queue where we add nodes discovered from the source\n",
    "    queue_dest = [goal_cube.clone()]\n",
    "    visited_dest = {goal_cube.hash(): [goal_cube.hash()]}\n",
    "    \n",
    "    while queue_src and queue_dest:\n",
    "        current_src = queue_src.pop(0)\n",
    "        current_src_hash = current_src.hash()\n",
    "        current_dest = queue_dest.pop(0)\n",
    "        current_dest_hash = current_dest.hash()\n",
    "        \n",
    "        for neighbor in get_neighbours(current_src):\n",
    "            probe_cube = Cube(scrambled=False)\n",
    "            probe_cube.state = neighbor\n",
    "            probe_cube_hash = probe_cube.hash()\n",
    "            \n",
    "            # we check if it's a new node\n",
    "            if probe_cube_hash not in visited_src:\n",
    "                # if we can find it in the destination queue, we have a path\n",
    "                if probe_cube_hash in visited_dest:\n",
    "                    solution = visited_src[current_src_hash] + visited_dest[probe_cube_hash][::-1]\n",
    "                    return print_info(visited_src, visited_dest, solution)\n",
    "                \n",
    "                # if it's not, we add it in the source queue\n",
    "                path_to_current_src = visited_src[current_src_hash] + [probe_cube_hash]\n",
    "                visited_src[probe_cube_hash] = path_to_current_src\n",
    "                queue_src.append(probe_cube)\n",
    "        \n",
    "        for neighbor in get_neighbours(current_dest):\n",
    "            probe_cube = Cube(scrambled=False)\n",
    "            probe_cube.state = neighbor\n",
    "            probe_cube_hash = probe_cube.hash()\n",
    "            \n",
    "            # we check if it's a new node\n",
    "            if probe_cube_hash not in visited_dest:\n",
    "                # if we can find it in the destination queue, we have a path\n",
    "                if probe_cube_hash in visited_src:\n",
    "                    solution = visited_src[probe_cube_hash] + visited_dest[current_dest.hash()][::-1] \n",
    "                    return print_info(visited_src, visited_dest, solution)\n",
    "                \n",
    "                # if it's not, we add it in the source queue\n",
    "                path_to_current_dest = visited_dest[current_dest.hash()] + [probe_cube_hash]\n",
    "                visited_dest[probe_cube_hash] = path_to_current_dest\n",
    "                queue_dest.append(probe_cube)\n",
    "                    "
   ]
  },
  {
   "cell_type": "markdown",
   "id": "6877e3ef",
   "metadata": {},
   "source": [
    "### Let's see how well this algorithm performs"
   ]
  },
  {
   "cell_type": "code",
   "execution_count": 13,
   "id": "7f7dd1f9",
   "metadata": {},
   "outputs": [
    {
     "name": "stdout",
     "output_type": "stream",
     "text": [
      "solved cube!\n",
      "Total number of nodes discovered: 110\n",
      "Length of the solution is: 5\n",
      "Solution is:\n",
      "\n",
      "\t255011422234350044103135\n",
      "\t502511322234300144145035\n",
      "\t500111252232303444143550\n",
      "\t550021514242303440113352\n",
      "\t050511114242333340405252\n",
      "\t000011112222333344445555\n",
      "CPU times: total: 0 ns\n",
      "Wall time: 6.99 ms\n"
     ]
    }
   ],
   "source": [
    "%%time\n",
    "discovered_nodes_case1_bfs, path_len_case1_bfs = bidirect_bfs(cube1)"
   ]
  },
  {
   "cell_type": "code",
   "execution_count": 14,
   "id": "74ca79a4",
   "metadata": {},
   "outputs": [
    {
     "name": "stdout",
     "output_type": "stream",
     "text": [
      "solved cube!\n",
      "Total number of nodes discovered: 782\n",
      "Length of the solution is: 7\n",
      "Solution is:\n",
      "\n",
      "\t115544133204352340002215\n",
      "\t515104033204322240351415\n",
      "\t512204513203320440351154\n",
      "\t125214113203350340052454\n",
      "\t105541114243350340032252\n",
      "\t051521214243330040415352\n",
      "\t001111222233330044445555\n",
      "\t000011112222333344445555\n",
      "CPU times: total: 46.9 ms\n",
      "Wall time: 39.4 ms\n"
     ]
    }
   ],
   "source": [
    "%%time\n",
    "discovered_nodes_case2_bfs, path_len_case2_bfs = bidirect_bfs(cube2)"
   ]
  },
  {
   "cell_type": "code",
   "execution_count": 15,
   "id": "35dee315",
   "metadata": {},
   "outputs": [
    {
     "name": "stdout",
     "output_type": "stream",
     "text": [
      "solved cube!\n",
      "Total number of nodes discovered: 2719\n",
      "Length of the solution is: 9\n",
      "Solution is:\n",
      "\n",
      "\t311401145205353242254003\n",
      "\t321514013205353240254104\n",
      "\t323214153201350540250441\n",
      "\t343111545201350542220043\n",
      "\t303351412221350544210045\n",
      "\t333021112221300044554545\n",
      "\t330021302211302144554455\n",
      "\t303041402211352544230155\n",
      "\t003311002211332244445555\n",
      "\t000011112222333344445555\n",
      "CPU times: total: 125 ms\n",
      "Wall time: 126 ms\n"
     ]
    }
   ],
   "source": [
    "%%time\n",
    "discovered_nodes_case3_bfs, path_len_case3_bfs = bidirect_bfs(cube3)"
   ]
  },
  {
   "cell_type": "code",
   "execution_count": 16,
   "id": "a15c890d",
   "metadata": {},
   "outputs": [
    {
     "name": "stdout",
     "output_type": "stream",
     "text": [
      "solved cube!\n",
      "Total number of nodes discovered: 8303\n",
      "Length of the solution is: 11\n",
      "Solution is:\n",
      "\n",
      "\t521252101210333445030445\n",
      "\t541515023250333442020141\n",
      "\t540215503234331542021104\n",
      "\t510451052224331544021303\n",
      "\t511551042205332444020133\n",
      "\t512451152204330544023031\n",
      "\t145201352204320044513531\n",
      "\t140001522235320444513315\n",
      "\t401031322235310544052415\n",
      "\t004141222235350044331515\n",
      "\t000041412222353544331155\n",
      "\t000011112222333344445555\n",
      "CPU times: total: 391 ms\n",
      "Wall time: 379 ms\n"
     ]
    }
   ],
   "source": [
    "%%time\n",
    "discovered_nodes_case4_bfs, path_len_case4_bfs = bidirect_bfs(cube4)"
   ]
  }
 ],
 "metadata": {
  "kernelspec": {
   "display_name": "Python 3 (ipykernel)",
   "language": "python",
   "name": "python3"
  },
  "language_info": {
   "codemirror_mode": {
    "name": "ipython",
    "version": 3
   },
   "file_extension": ".py",
   "mimetype": "text/x-python",
   "name": "python",
   "nbconvert_exporter": "python",
   "pygments_lexer": "ipython3",
   "version": "3.11.5"
  }
 },
 "nbformat": 4,
 "nbformat_minor": 5
}
