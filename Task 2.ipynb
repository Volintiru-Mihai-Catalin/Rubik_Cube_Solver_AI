{
 "cells": [
  {
   "cell_type": "markdown",
   "id": "021f1cfc",
   "metadata": {},
   "source": [
    "# Monte Carlo Tree Search"
   ]
  },
  {
   "cell_type": "markdown",
   "id": "f88d50f8",
   "metadata": {},
   "source": [
    "## Imports"
   ]
  },
  {
   "cell_type": "markdown",
   "id": "b07d8bae",
   "metadata": {},
   "source": [
    "These are all the imports needed to solve this task:"
   ]
  },
  {
   "cell_type": "code",
   "execution_count": 2,
   "id": "fd260cd1",
   "metadata": {},
   "outputs": [],
   "source": [
    "from heapq import heappop, heappush\n",
    "from pocket_cube.cube import Cube\n",
    "from pocket_cube.cube import Move\n",
    "from tests import case1, case2, case3, case4\n",
    "import numpy as np\n",
    "import matplotlib.pyplot as plt\n",
    "from random import choice\n",
    "\n",
    "%matplotlib notebook"
   ]
  },
  {
   "cell_type": "markdown",
   "id": "009423f4",
   "metadata": {},
   "source": [
    "## Test cases"
   ]
  },
  {
   "cell_type": "markdown",
   "id": "d8fd8341",
   "metadata": {},
   "source": [
    "These are the test cases that will be used to run and compare the algorithms:"
   ]
  },
  {
   "cell_type": "code",
   "execution_count": 3,
   "id": "a7e10d6c",
   "metadata": {},
   "outputs": [],
   "source": [
    "cube1 = Cube(case1)\n",
    "cube2 = Cube(case2)\n",
    "cube3 = Cube(case3)\n",
    "cube4 = Cube(case4)"
   ]
  },
  {
   "cell_type": "markdown",
   "id": "81a8d4dd",
   "metadata": {},
   "source": [
    "For this problem, we will define some constants:"
   ]
  },
  {
   "cell_type": "code",
   "execution_count": 4,
   "id": "cf598380",
   "metadata": {},
   "outputs": [],
   "source": [
    "# Constants\n",
    "\n",
    "N = 'N'\n",
    "Q = 'Q'\n",
    "P = 'parent'\n",
    "A = 'actions'"
   ]
  },
  {
   "cell_type": "markdown",
   "id": "f93743c7",
   "metadata": {},
   "source": [
    "This is the first heuristic, the one that I used on the previous task. It is admissible. The return value is 3 minus the heuristic, because the maximum value this heuristic can give is 3, so in order to make it a \"reward\", not a \"distance\", we do this operation."
   ]
  },
  {
   "cell_type": "code",
   "execution_count": 5,
   "id": "ba086a2f",
   "metadata": {},
   "outputs": [],
   "source": [
    "def heuristic_score(cube):\n",
    "        score = 0\n",
    "        for i in range(len(cube.state)):\n",
    "            if cube.goal_state[i] != cube.state[i]:\n",
    "                score += 1\n",
    "    \n",
    "        return 3 - score / 8"
   ]
  },
  {
   "cell_type": "markdown",
   "id": "1c38b554",
   "metadata": {},
   "source": [
    "This is the second heuristic that uses the Manhattan Distance.\n",
    "This heuristic is not admissible because the aproximated value will be bigger than the real value. The return value is 24 minus the result of the heuristic, because there are 8 corners, and the maximum distance a corner can be from his correct position is 3, so in order to make it a \"reward\", we do this operation."
   ]
  },
  {
   "cell_type": "code",
   "execution_count": 6,
   "id": "0b38d852",
   "metadata": {},
   "outputs": [],
   "source": [
    "def Manhattan_calc(coord1, coord2):\n",
    "        return abs(coord1[0] - coord2[0]) + \\\n",
    "               abs(coord1[1] - coord2[1]) + \\\n",
    "               abs(coord1[2] - coord2[2])\n",
    "\n",
    "def manhattan_distance_not_admissible(cube):\n",
    "        \n",
    "        dict_cube = {}\n",
    "        score_manh = 0.0\n",
    "        for coord, (cublets_coord, _) in cube.cublets.items():\n",
    "            x, y, z = cublets_coord\n",
    "            color_x = cube.state[x]\n",
    "            color_y = cube.state[y]\n",
    "            color_z = cube.state[z]\n",
    "            dict_cube[coord] = ((x, y, z), (color_x, color_y, color_z))\n",
    "    \n",
    "        for coord, (_, goal_colors) in cube.cublets.items():\n",
    "            _, cublets_colors = dict_cube[coord]\n",
    "            if goal_colors != cublets_colors:\n",
    "                for cublets_coord in dict_cube.keys():\n",
    "                    if set(dict_cube[cublets_coord][1]) == set(goal_colors):\n",
    "                        score_manh += Manhattan_calc(coord, cublets_coord)\n",
    "\n",
    "        return 24 - score_manh"
   ]
  },
  {
   "cell_type": "code",
   "execution_count": 7,
   "id": "310c0268",
   "metadata": {},
   "outputs": [],
   "source": [
    "def is_solved(cube):\n",
    "    comparator = cube.goal_state == cube.state\n",
    "    return comparator.all()"
   ]
  },
  {
   "cell_type": "code",
   "execution_count": 8,
   "id": "75779fdc",
   "metadata": {},
   "outputs": [],
   "source": [
    "def get_neighbours(cube):\n",
    "    return [Cube.hash_state(Cube.move_state(cube.clone_state(), move)) for move in range(6)]"
   ]
  },
  {
   "cell_type": "code",
   "execution_count": 9,
   "id": "434de0e4",
   "metadata": {},
   "outputs": [],
   "source": [
    "def init_node(parent=None):\n",
    "    return {N: 0, Q: 0, P: parent, A: {}}"
   ]
  },
  {
   "cell_type": "code",
   "execution_count": 10,
   "id": "55bb636b",
   "metadata": {},
   "outputs": [],
   "source": [
    "from math import sqrt, log\n",
    "import numpy as np\n",
    "\n",
    "def select_action(node, c):\n",
    "    max_score = -1\n",
    "    action = None\n",
    "    \n",
    "    for a, n in node[A].items():\n",
    "        score = n[Q] / n[N] + c * sqrt(2 * log(node[N]) / n[N])\n",
    "        if max_score < score:\n",
    "            max_score = score\n",
    "            action = a\n",
    "    \n",
    "    return action"
   ]
  },
  {
   "cell_type": "code",
   "execution_count": 11,
   "id": "9e89b050",
   "metadata": {},
   "outputs": [],
   "source": [
    "def mcts(cube, budget, tree, heuristic, C):\n",
    "    c = C\n",
    "    count = 0\n",
    "    solved = False\n",
    "    if not tree:\n",
    "        tree = init_node()\n",
    "    \n",
    "    for b in range(budget):\n",
    "        \n",
    "        probe_cube = cube.clone()\n",
    "        node = tree\n",
    "        solution = [] \n",
    "        while(not is_solved(probe_cube) and \n",
    "            all(move in node[A] for move in [x for x in range(6)])):\n",
    "            selected_move = select_action(node, c)\n",
    "            probe_cube.state = Cube.move_state(probe_cube.state, selected_move)\n",
    "            solution.append(probe_cube.hash())\n",
    "            node = node[A][selected_move]\n",
    "        \n",
    "        if is_solved(probe_cube):\n",
    "            print(\"solved cube!\")\n",
    "            print(f\"Total number of nodes discovered: {count}\")\n",
    "            print(f\"Length of the solution is: {str(len(solution))}\")\n",
    "            print(\"Solution is:\")\n",
    "            print(solution)\n",
    "            solved = True\n",
    "            break\n",
    "        else:\n",
    "            new_move = choice(list(filter(lambda a: a not in node[A], [x for x in range(6)])))\n",
    "                       \n",
    "            probe_cube.state = Cube.move_state(probe_cube.state, new_move)\n",
    "            node = init_node(node)\n",
    "            count += 1\n",
    "            node[P][A][new_move] = node\n",
    "            \n",
    "        tries = 0\n",
    "        max_reward = 0\n",
    "        while tries < 14:\n",
    "            # I'm searching for the max reward possible on this route\n",
    "            if max_reward < heuristic(probe_cube):\n",
    "                max_reward = heuristic(probe_cube)\n",
    "            \n",
    "            if is_solved(probe_cube):\n",
    "                break\n",
    "                \n",
    "            probe_cube.state = Cube.move_state(probe_cube.state, choice([x for x in range(6)]))\n",
    "            tries += 1\n",
    "            \n",
    "        crt_node = node\n",
    "        while crt_node:\n",
    "            crt_node[N] += 1\n",
    "            crt_node[Q] += max_reward\n",
    "            crt_node = crt_node[P]\n",
    "    \n",
    "    \n",
    "    if not solved:\n",
    "        print('NO SOLUTION FOUND')"
   ]
  },
  {
   "cell_type": "code",
   "execution_count": 12,
   "id": "4ca961f2",
   "metadata": {},
   "outputs": [],
   "source": [
    "def run_case1(budget, H, C):\n",
    "    mcts(cube1, budget, None, H, C)\n",
    "\n",
    "def run_case2(budget, H, C):\n",
    "    mcts(cube2, budget, None, H, C)\n",
    "    \n",
    "def run_case3(budget, H, C):\n",
    "    mcts(cube3, budget, None, H, C)\n",
    "    \n",
    "def run_case4(budget, H, C):\n",
    "    mcts(cube4, budget, None, H, C)"
   ]
  },
  {
   "cell_type": "markdown",
   "id": "98d5fc05",
   "metadata": {},
   "source": [
    " "
   ]
  },
  {
   "cell_type": "markdown",
   "id": "b0b4682f",
   "metadata": {},
   "source": [
    " "
   ]
  },
  {
   "cell_type": "markdown",
   "id": "d4f48562",
   "metadata": {},
   "source": [
    "## We will test the algorithm for the first heuristic with budget 1000, and c = 0,1"
   ]
  },
  {
   "cell_type": "code",
   "execution_count": 14,
   "id": "0293e860",
   "metadata": {},
   "outputs": [
    {
     "name": "stdout",
     "output_type": "stream",
     "text": [
      "NO SOLUTION FOUND\n",
      "NO SOLUTION FOUND\n",
      "NO SOLUTION FOUND\n",
      "NO SOLUTION FOUND\n",
      "NO SOLUTION FOUND\n",
      "NO SOLUTION FOUND\n",
      "NO SOLUTION FOUND\n",
      "solved cube!\n",
      "Total number of nodes discovered: 154\n",
      "Length of the solution is: 5\n",
      "Solution is:\n",
      "['502511322234300144145035', '500111252232303444143550', '550021514242303440113352', '050511114242333340405252', '000011112222333344445555']\n",
      "NO SOLUTION FOUND\n",
      "NO SOLUTION FOUND\n",
      "NO SOLUTION FOUND\n",
      "solved cube!\n",
      "Total number of nodes discovered: 102\n",
      "Length of the solution is: 5\n",
      "Solution is:\n",
      "['502511322234300144145035', '500111252232303444143550', '550021514242303440113352', '050511114242333340405252', '000011112222333344445555']\n",
      "solved cube!\n",
      "Total number of nodes discovered: 76\n",
      "Length of the solution is: 5\n",
      "Solution is:\n",
      "['502511322234300144145035', '500111252232303444143550', '550021514242303440113352', '050511114242333340405252', '000011112222333344445555']\n",
      "NO SOLUTION FOUND\n",
      "NO SOLUTION FOUND\n",
      "NO SOLUTION FOUND\n",
      "NO SOLUTION FOUND\n",
      "NO SOLUTION FOUND\n",
      "NO SOLUTION FOUND\n",
      "solved cube!\n",
      "Total number of nodes discovered: 53\n",
      "Length of the solution is: 5\n",
      "Solution is:\n",
      "['502511322234300144145035', '500111252232303444143550', '550021514242303440113352', '050511114242333340405252', '000011112222333344445555']\n",
      "CPU times: total: 7.31 s\n",
      "Wall time: 7.26 s\n"
     ]
    }
   ],
   "source": [
    "%%time\n",
    "for i in range(20):\n",
    "    run_case1(1000, heuristic_score, 0.1)"
   ]
  },
  {
   "cell_type": "code",
   "execution_count": 15,
   "id": "18d95773",
   "metadata": {},
   "outputs": [
    {
     "name": "stdout",
     "output_type": "stream",
     "text": [
      "solved cube!\n",
      "Total number of nodes discovered: 416\n",
      "Length of the solution is: 9\n",
      "Solution is:\n",
      "['515104033204322240351415', '512204513203320440351154', '502541054213320440331152', '055211154213330340402452', '005015112243330341442552', '000555212243340441113352', '010151522233340444123055', '001111222233330044445555', '000011112222333344445555']\n",
      "NO SOLUTION FOUND\n",
      "solved cube!\n",
      "Total number of nodes discovered: 147\n",
      "Length of the solution is: 7\n",
      "Solution is:\n",
      "['105043415224352340032115', '001513215224332040445315', '002113245220331540443551', '052121434200331540413255', '051521214243330040415352', '001111222233330044445555', '000011112222333344445555']\n",
      "NO SOLUTION FOUND\n",
      "NO SOLUTION FOUND\n",
      "NO SOLUTION FOUND\n",
      "NO SOLUTION FOUND\n",
      "NO SOLUTION FOUND\n",
      "NO SOLUTION FOUND\n",
      "NO SOLUTION FOUND\n",
      "NO SOLUTION FOUND\n",
      "NO SOLUTION FOUND\n",
      "NO SOLUTION FOUND\n",
      "NO SOLUTION FOUND\n",
      "solved cube!\n",
      "Total number of nodes discovered: 162\n",
      "Length of the solution is: 7\n",
      "Solution is:\n",
      "['105043415224352340032115', '001513215224332040445315', '002113245220331540443551', '052121434200331540413255', '051521214243330040415352', '001111222233330044445555', '000011112222333344445555']\n",
      "NO SOLUTION FOUND\n",
      "NO SOLUTION FOUND\n",
      "NO SOLUTION FOUND\n",
      "NO SOLUTION FOUND\n",
      "NO SOLUTION FOUND\n",
      "CPU times: total: 8.84 s\n",
      "Wall time: 8.81 s\n"
     ]
    }
   ],
   "source": [
    "%%time\n",
    "for i in range(20):\n",
    "    run_case2(1000, heuristic_score, 0.1)"
   ]
  },
  {
   "cell_type": "code",
   "execution_count": 16,
   "id": "e350f65c",
   "metadata": {},
   "outputs": [
    {
     "name": "stdout",
     "output_type": "stream",
     "text": [
      "NO SOLUTION FOUND\n",
      "NO SOLUTION FOUND\n",
      "NO SOLUTION FOUND\n",
      "NO SOLUTION FOUND\n",
      "NO SOLUTION FOUND\n",
      "NO SOLUTION FOUND\n",
      "NO SOLUTION FOUND\n",
      "NO SOLUTION FOUND\n",
      "NO SOLUTION FOUND\n",
      "NO SOLUTION FOUND\n",
      "NO SOLUTION FOUND\n",
      "NO SOLUTION FOUND\n",
      "NO SOLUTION FOUND\n",
      "NO SOLUTION FOUND\n",
      "NO SOLUTION FOUND\n",
      "NO SOLUTION FOUND\n",
      "NO SOLUTION FOUND\n",
      "NO SOLUTION FOUND\n",
      "NO SOLUTION FOUND\n",
      "NO SOLUTION FOUND\n",
      "CPU times: total: 10.5 s\n",
      "Wall time: 10.4 s\n"
     ]
    }
   ],
   "source": [
    "%%time\n",
    "for i in range(20):\n",
    "    run_case3(1000, heuristic_score, 0.1)"
   ]
  },
  {
   "cell_type": "code",
   "execution_count": 17,
   "id": "7690c96a",
   "metadata": {},
   "outputs": [
    {
     "name": "stdout",
     "output_type": "stream",
     "text": [
      "NO SOLUTION FOUND\n",
      "NO SOLUTION FOUND\n",
      "NO SOLUTION FOUND\n",
      "NO SOLUTION FOUND\n",
      "NO SOLUTION FOUND\n",
      "NO SOLUTION FOUND\n",
      "NO SOLUTION FOUND\n",
      "NO SOLUTION FOUND\n",
      "NO SOLUTION FOUND\n",
      "NO SOLUTION FOUND\n",
      "NO SOLUTION FOUND\n",
      "NO SOLUTION FOUND\n",
      "NO SOLUTION FOUND\n",
      "NO SOLUTION FOUND\n",
      "NO SOLUTION FOUND\n",
      "NO SOLUTION FOUND\n",
      "NO SOLUTION FOUND\n",
      "NO SOLUTION FOUND\n",
      "NO SOLUTION FOUND\n",
      "NO SOLUTION FOUND\n",
      "CPU times: total: 11.3 s\n",
      "Wall time: 11.2 s\n"
     ]
    }
   ],
   "source": [
    "%%time\n",
    "for i in range(20):\n",
    "    run_case4(1000, heuristic_score, 0.1)"
   ]
  },
  {
   "cell_type": "markdown",
   "id": "4e1d6418",
   "metadata": {},
   "source": [
    " "
   ]
  },
  {
   "cell_type": "markdown",
   "id": "d6682c17",
   "metadata": {},
   "source": [
    " "
   ]
  },
  {
   "cell_type": "markdown",
   "id": "0526fbc9",
   "metadata": {},
   "source": [
    " "
   ]
  },
  {
   "cell_type": "markdown",
   "id": "95758d00",
   "metadata": {},
   "source": [
    "## We will test the algorithm for the first heuristic with budget 5000, and c = 0,1"
   ]
  },
  {
   "cell_type": "code",
   "execution_count": 18,
   "id": "d07eb1fb",
   "metadata": {},
   "outputs": [
    {
     "name": "stdout",
     "output_type": "stream",
     "text": [
      "NO SOLUTION FOUND\n",
      "NO SOLUTION FOUND\n",
      "NO SOLUTION FOUND\n",
      "NO SOLUTION FOUND\n",
      "solved cube!\n",
      "Total number of nodes discovered: 176\n",
      "Length of the solution is: 5\n",
      "Solution is:\n",
      "['502511322234300144145035', '500111252232303444143550', '550021514242303440113352', '050511114242333340405252', '000011112222333344445555']\n",
      "NO SOLUTION FOUND\n",
      "NO SOLUTION FOUND\n",
      "NO SOLUTION FOUND\n",
      "NO SOLUTION FOUND\n",
      "NO SOLUTION FOUND\n",
      "NO SOLUTION FOUND\n",
      "NO SOLUTION FOUND\n",
      "NO SOLUTION FOUND\n",
      "NO SOLUTION FOUND\n",
      "NO SOLUTION FOUND\n",
      "NO SOLUTION FOUND\n",
      "NO SOLUTION FOUND\n",
      "NO SOLUTION FOUND\n",
      "NO SOLUTION FOUND\n",
      "NO SOLUTION FOUND\n",
      "CPU times: total: 46.9 s\n",
      "Wall time: 46.9 s\n"
     ]
    }
   ],
   "source": [
    "%%time\n",
    "for i in range(20):\n",
    "    run_case1(5000, heuristic_score, 0.1)"
   ]
  },
  {
   "cell_type": "code",
   "execution_count": 19,
   "id": "c7b105dd",
   "metadata": {},
   "outputs": [
    {
     "name": "stdout",
     "output_type": "stream",
     "text": [
      "NO SOLUTION FOUND\n",
      "solved cube!\n",
      "Total number of nodes discovered: 1109\n",
      "Length of the solution is: 15\n",
      "Solution is:\n",
      "['112344553213350440001252', '110444233255351340005122', '100043422215351345035124', '001013522215331045445324', '001013102252331545442543', '051311034252331540402542', '051511134203335240404225', '055211154213330340402452', '005015112243330341442552', '500045412243320541331152', '005015112243330341442552', '000555212243340441113352', '010151522233340444123055', '001111222233330044445555', '000011112222333344445555']\n",
      "NO SOLUTION FOUND\n",
      "NO SOLUTION FOUND\n",
      "NO SOLUTION FOUND\n",
      "NO SOLUTION FOUND\n",
      "NO SOLUTION FOUND\n",
      "NO SOLUTION FOUND\n",
      "solved cube!\n",
      "Total number of nodes discovered: 314\n",
      "Length of the solution is: 7\n",
      "Solution is:\n",
      "['105043415224352340032115', '001513215224332040445315', '002113245220331540443551', '052121434200331540413255', '051521214243330040415352', '001111222233330044445555', '000011112222333344445555']\n",
      "NO SOLUTION FOUND\n",
      "NO SOLUTION FOUND\n",
      "NO SOLUTION FOUND\n",
      "NO SOLUTION FOUND\n",
      "NO SOLUTION FOUND\n",
      "NO SOLUTION FOUND\n",
      "NO SOLUTION FOUND\n",
      "NO SOLUTION FOUND\n",
      "NO SOLUTION FOUND\n",
      "NO SOLUTION FOUND\n",
      "NO SOLUTION FOUND\n",
      "CPU times: total: 55.5 s\n",
      "Wall time: 55.5 s\n"
     ]
    }
   ],
   "source": [
    "%%time\n",
    "for i in range(20):\n",
    "    run_case2(5000, heuristic_score, 0.1)"
   ]
  },
  {
   "cell_type": "code",
   "execution_count": 20,
   "id": "f236731f",
   "metadata": {},
   "outputs": [
    {
     "name": "stdout",
     "output_type": "stream",
     "text": [
      "NO SOLUTION FOUND\n",
      "NO SOLUTION FOUND\n",
      "NO SOLUTION FOUND\n",
      "NO SOLUTION FOUND\n",
      "solved cube!\n",
      "Total number of nodes discovered: 4001\n",
      "Length of the solution is: 21\n",
      "Solution is:\n",
      "['321514013205353240254104', '311401145205353242254003', '321514013205353240254104', '301541104215353240234205', '053121404215333240415205', '054021154232333140412550', '053121404215333240415205', '053221314240331540410552', '003111232250331544440552', '001511312223335044445025', '105041412223355044033125', '001511312223335044445025', '041411135203335042425025', '045011145213330342422550', '055011412223330344402155', '500511212223300444143355', '055011412223330344402155', '050311502241332344405251', '003541002241352244335151', '000041412222353544331155', '000011112222333344445555']\n",
      "NO SOLUTION FOUND\n",
      "NO SOLUTION FOUND\n",
      "NO SOLUTION FOUND\n",
      "solved cube!\n",
      "Total number of nodes discovered: 1664\n",
      "Length of the solution is: 13\n",
      "Solution is:\n",
      "['313201145214350542250430', '343010415224350541220135', '340510305241352441223051', '300131002211352444253455', '013041302211352244305455', '100341502211302344435255', '105041112223300344432555', '001551212223330444410355', '000451152221332344415053', '001551212223330444410355', '041111525233330442420055', '040411115252333342425050', '000011112222333344445555']\n",
      "NO SOLUTION FOUND\n",
      "NO SOLUTION FOUND\n",
      "NO SOLUTION FOUND\n",
      "NO SOLUTION FOUND\n",
      "NO SOLUTION FOUND\n",
      "NO SOLUTION FOUND\n",
      "NO SOLUTION FOUND\n",
      "NO SOLUTION FOUND\n",
      "NO SOLUTION FOUND\n",
      "NO SOLUTION FOUND\n",
      "NO SOLUTION FOUND\n",
      "CPU times: total: 1min\n",
      "Wall time: 1min\n"
     ]
    }
   ],
   "source": [
    "%%time\n",
    "for i in range(20):\n",
    "    run_case3(5000, heuristic_score, 0.1)"
   ]
  },
  {
   "cell_type": "code",
   "execution_count": 21,
   "id": "fd1fc19c",
   "metadata": {},
   "outputs": [
    {
     "name": "stdout",
     "output_type": "stream",
     "text": [
      "NO SOLUTION FOUND\n",
      "NO SOLUTION FOUND\n",
      "NO SOLUTION FOUND\n",
      "NO SOLUTION FOUND\n",
      "NO SOLUTION FOUND\n",
      "NO SOLUTION FOUND\n",
      "NO SOLUTION FOUND\n",
      "NO SOLUTION FOUND\n",
      "NO SOLUTION FOUND\n",
      "NO SOLUTION FOUND\n",
      "NO SOLUTION FOUND\n",
      "NO SOLUTION FOUND\n",
      "NO SOLUTION FOUND\n",
      "NO SOLUTION FOUND\n",
      "NO SOLUTION FOUND\n",
      "NO SOLUTION FOUND\n",
      "NO SOLUTION FOUND\n",
      "NO SOLUTION FOUND\n",
      "NO SOLUTION FOUND\n",
      "NO SOLUTION FOUND\n",
      "CPU times: total: 1min 6s\n",
      "Wall time: 1min 6s\n"
     ]
    }
   ],
   "source": [
    "%%time\n",
    "for i in range(20):\n",
    "    run_case4(5000, heuristic_score, 0.1)"
   ]
  },
  {
   "cell_type": "markdown",
   "id": "462b35c2",
   "metadata": {},
   "source": [
    " "
   ]
  },
  {
   "cell_type": "markdown",
   "id": "bbb014c6",
   "metadata": {},
   "source": [
    " "
   ]
  },
  {
   "cell_type": "markdown",
   "id": "109a615b",
   "metadata": {},
   "source": [
    " "
   ]
  },
  {
   "cell_type": "markdown",
   "id": "b8e7e772",
   "metadata": {},
   "source": [
    "## We will test the algorithm for the first heuristic with budget 10000, and c = 0,1"
   ]
  },
  {
   "cell_type": "code",
   "execution_count": 22,
   "id": "a7c0c32e",
   "metadata": {},
   "outputs": [
    {
     "name": "stdout",
     "output_type": "stream",
     "text": [
      "solved cube!\n",
      "Total number of nodes discovered: 105\n",
      "Length of the solution is: 5\n",
      "Solution is:\n",
      "['502511322234300144145035', '500111252232303444143550', '550021514242303440113352', '050511114242333340405252', '000011112222333344445555']\n",
      "NO SOLUTION FOUND\n",
      "NO SOLUTION FOUND\n",
      "NO SOLUTION FOUND\n",
      "NO SOLUTION FOUND\n",
      "NO SOLUTION FOUND\n",
      "NO SOLUTION FOUND\n",
      "NO SOLUTION FOUND\n",
      "NO SOLUTION FOUND\n",
      "NO SOLUTION FOUND\n",
      "NO SOLUTION FOUND\n",
      "NO SOLUTION FOUND\n",
      "NO SOLUTION FOUND\n",
      "NO SOLUTION FOUND\n",
      "solved cube!\n",
      "Total number of nodes discovered: 6182\n",
      "Length of the solution is: 5\n",
      "Solution is:\n",
      "['502511322234300144145035', '500111252232303444143550', '550021514242303440113352', '050511114242333340405252', '000011112222333344445555']\n",
      "NO SOLUTION FOUND\n",
      "NO SOLUTION FOUND\n",
      "NO SOLUTION FOUND\n",
      "NO SOLUTION FOUND\n",
      "NO SOLUTION FOUND\n",
      "CPU times: total: 1min 35s\n",
      "Wall time: 1min 35s\n"
     ]
    }
   ],
   "source": [
    "%%time\n",
    "for i in range(20):\n",
    "    run_case1(10000, heuristic_score, 0.1)"
   ]
  },
  {
   "cell_type": "code",
   "execution_count": 23,
   "id": "352cac5e",
   "metadata": {},
   "outputs": [
    {
     "name": "stdout",
     "output_type": "stream",
     "text": [
      "solved cube!\n",
      "Total number of nodes discovered: 101\n",
      "Length of the solution is: 7\n",
      "Solution is:\n",
      "['105043415224352340032115', '001513215224332040445315', '002113245220331540443551', '052121434200331540413255', '051521214243330040415352', '001111222233330044445555', '000011112222333344445555']\n",
      "NO SOLUTION FOUND\n",
      "NO SOLUTION FOUND\n",
      "NO SOLUTION FOUND\n",
      "NO SOLUTION FOUND\n",
      "NO SOLUTION FOUND\n",
      "NO SOLUTION FOUND\n",
      "NO SOLUTION FOUND\n",
      "NO SOLUTION FOUND\n",
      "NO SOLUTION FOUND\n",
      "NO SOLUTION FOUND\n",
      "NO SOLUTION FOUND\n",
      "NO SOLUTION FOUND\n",
      "NO SOLUTION FOUND\n",
      "solved cube!\n",
      "Total number of nodes discovered: 253\n",
      "Length of the solution is: 7\n",
      "Solution is:\n",
      "['105043415224352340032115', '001513215224332040445315', '002113245220331540443551', '052121434200331540413255', '051521214243330040415352', '001111222233330044445555', '000011112222333344445555']\n",
      "NO SOLUTION FOUND\n",
      "solved cube!\n",
      "Total number of nodes discovered: 114\n",
      "Length of the solution is: 7\n",
      "Solution is:\n",
      "['105043415224352340032115', '001513215224332040445315', '002113245220331540443551', '052121434200331540413255', '051521214243330040415352', '001111222233330044445555', '000011112222333344445555']\n",
      "NO SOLUTION FOUND\n",
      "NO SOLUTION FOUND\n",
      "NO SOLUTION FOUND\n",
      "CPU times: total: 1min 54s\n",
      "Wall time: 1min 54s\n"
     ]
    }
   ],
   "source": [
    "%%time\n",
    "for i in range(20):\n",
    "    run_case2(10000, heuristic_score, 0.1)"
   ]
  },
  {
   "cell_type": "code",
   "execution_count": 24,
   "id": "e0553035",
   "metadata": {},
   "outputs": [
    {
     "name": "stdout",
     "output_type": "stream",
     "text": [
      "NO SOLUTION FOUND\n",
      "NO SOLUTION FOUND\n",
      "NO SOLUTION FOUND\n",
      "NO SOLUTION FOUND\n",
      "NO SOLUTION FOUND\n",
      "NO SOLUTION FOUND\n",
      "NO SOLUTION FOUND\n",
      "NO SOLUTION FOUND\n",
      "NO SOLUTION FOUND\n",
      "NO SOLUTION FOUND\n",
      "NO SOLUTION FOUND\n",
      "NO SOLUTION FOUND\n",
      "NO SOLUTION FOUND\n",
      "NO SOLUTION FOUND\n",
      "NO SOLUTION FOUND\n",
      "NO SOLUTION FOUND\n",
      "NO SOLUTION FOUND\n",
      "NO SOLUTION FOUND\n",
      "NO SOLUTION FOUND\n",
      "NO SOLUTION FOUND\n",
      "CPU times: total: 2min 10s\n",
      "Wall time: 2min 10s\n"
     ]
    }
   ],
   "source": [
    "%%time\n",
    "for i in range(20):\n",
    "    run_case3(10000, heuristic_score, 0.1)"
   ]
  },
  {
   "cell_type": "code",
   "execution_count": 25,
   "id": "92ef75cb",
   "metadata": {},
   "outputs": [
    {
     "name": "stdout",
     "output_type": "stream",
     "text": [
      "NO SOLUTION FOUND\n",
      "NO SOLUTION FOUND\n",
      "NO SOLUTION FOUND\n",
      "NO SOLUTION FOUND\n",
      "NO SOLUTION FOUND\n",
      "NO SOLUTION FOUND\n",
      "NO SOLUTION FOUND\n",
      "NO SOLUTION FOUND\n",
      "NO SOLUTION FOUND\n",
      "NO SOLUTION FOUND\n",
      "NO SOLUTION FOUND\n",
      "NO SOLUTION FOUND\n",
      "NO SOLUTION FOUND\n",
      "NO SOLUTION FOUND\n",
      "NO SOLUTION FOUND\n",
      "NO SOLUTION FOUND\n",
      "NO SOLUTION FOUND\n",
      "NO SOLUTION FOUND\n",
      "NO SOLUTION FOUND\n",
      "NO SOLUTION FOUND\n",
      "CPU times: total: 2min 24s\n",
      "Wall time: 2min 24s\n"
     ]
    }
   ],
   "source": [
    "%%time\n",
    "for i in range(20):\n",
    "    run_case4(10000, heuristic_score, 0.1)"
   ]
  },
  {
   "cell_type": "markdown",
   "id": "5daae02f",
   "metadata": {},
   "source": [
    " "
   ]
  },
  {
   "cell_type": "markdown",
   "id": "de7bf113",
   "metadata": {},
   "source": [
    " "
   ]
  },
  {
   "cell_type": "markdown",
   "id": "2850428b",
   "metadata": {},
   "source": [
    " "
   ]
  },
  {
   "cell_type": "markdown",
   "id": "984dd870",
   "metadata": {},
   "source": [
    "## We will test the algorithm for the first heuristic with budget 20000, and c = 0,1"
   ]
  },
  {
   "cell_type": "code",
   "execution_count": 26,
   "id": "ff2180cb",
   "metadata": {},
   "outputs": [
    {
     "name": "stdout",
     "output_type": "stream",
     "text": [
      "NO SOLUTION FOUND\n",
      "NO SOLUTION FOUND\n",
      "NO SOLUTION FOUND\n",
      "NO SOLUTION FOUND\n",
      "NO SOLUTION FOUND\n",
      "solved cube!\n",
      "Total number of nodes discovered: 10967\n",
      "Length of the solution is: 5\n",
      "Solution is:\n",
      "['502511322234300144145035', '500111252232303444143550', '550021514242303440113352', '050511114242333340405252', '000011112222333344445555']\n",
      "solved cube!\n",
      "Total number of nodes discovered: 161\n",
      "Length of the solution is: 5\n",
      "Solution is:\n",
      "['502511322234300144145035', '500111252232303444143550', '550021514242303440113352', '050511114242333340405252', '000011112222333344445555']\n",
      "NO SOLUTION FOUND\n",
      "NO SOLUTION FOUND\n",
      "NO SOLUTION FOUND\n",
      "NO SOLUTION FOUND\n",
      "NO SOLUTION FOUND\n",
      "NO SOLUTION FOUND\n",
      "NO SOLUTION FOUND\n",
      "NO SOLUTION FOUND\n",
      "NO SOLUTION FOUND\n",
      "NO SOLUTION FOUND\n",
      "NO SOLUTION FOUND\n",
      "NO SOLUTION FOUND\n",
      "NO SOLUTION FOUND\n",
      "CPU times: total: 3min 18s\n",
      "Wall time: 3min 18s\n"
     ]
    }
   ],
   "source": [
    "%%time\n",
    "for i in range(20):\n",
    "    run_case1(20000, heuristic_score, 0.1)"
   ]
  },
  {
   "cell_type": "code",
   "execution_count": 27,
   "id": "fc32d818",
   "metadata": {},
   "outputs": [
    {
     "name": "stdout",
     "output_type": "stream",
     "text": [
      "NO SOLUTION FOUND\n",
      "NO SOLUTION FOUND\n",
      "NO SOLUTION FOUND\n",
      "NO SOLUTION FOUND\n",
      "NO SOLUTION FOUND\n",
      "NO SOLUTION FOUND\n",
      "NO SOLUTION FOUND\n",
      "NO SOLUTION FOUND\n",
      "NO SOLUTION FOUND\n",
      "NO SOLUTION FOUND\n",
      "NO SOLUTION FOUND\n",
      "NO SOLUTION FOUND\n",
      "NO SOLUTION FOUND\n",
      "NO SOLUTION FOUND\n",
      "NO SOLUTION FOUND\n",
      "NO SOLUTION FOUND\n",
      "NO SOLUTION FOUND\n",
      "NO SOLUTION FOUND\n",
      "NO SOLUTION FOUND\n",
      "NO SOLUTION FOUND\n",
      "CPU times: total: 4min 51s\n",
      "Wall time: 4min 51s\n"
     ]
    }
   ],
   "source": [
    "%%time\n",
    "for i in range(20):\n",
    "    run_case2(20000, heuristic_score, 0.1)"
   ]
  },
  {
   "cell_type": "code",
   "execution_count": 28,
   "id": "42f1e284",
   "metadata": {},
   "outputs": [
    {
     "name": "stdout",
     "output_type": "stream",
     "text": [
      "NO SOLUTION FOUND\n",
      "NO SOLUTION FOUND\n",
      "NO SOLUTION FOUND\n",
      "NO SOLUTION FOUND\n",
      "NO SOLUTION FOUND\n",
      "NO SOLUTION FOUND\n",
      "NO SOLUTION FOUND\n",
      "NO SOLUTION FOUND\n",
      "NO SOLUTION FOUND\n",
      "NO SOLUTION FOUND\n",
      "NO SOLUTION FOUND\n",
      "NO SOLUTION FOUND\n",
      "NO SOLUTION FOUND\n",
      "NO SOLUTION FOUND\n",
      "NO SOLUTION FOUND\n",
      "NO SOLUTION FOUND\n",
      "NO SOLUTION FOUND\n",
      "NO SOLUTION FOUND\n",
      "NO SOLUTION FOUND\n",
      "NO SOLUTION FOUND\n",
      "CPU times: total: 4min 51s\n",
      "Wall time: 4min 51s\n"
     ]
    }
   ],
   "source": [
    "%%time\n",
    "for i in range(20):\n",
    "    run_case3(20000, heuristic_score, 0.1)"
   ]
  },
  {
   "cell_type": "code",
   "execution_count": 29,
   "id": "b2280153",
   "metadata": {},
   "outputs": [
    {
     "name": "stdout",
     "output_type": "stream",
     "text": [
      "NO SOLUTION FOUND\n",
      "NO SOLUTION FOUND\n",
      "NO SOLUTION FOUND\n",
      "NO SOLUTION FOUND\n",
      "NO SOLUTION FOUND\n",
      "NO SOLUTION FOUND\n",
      "NO SOLUTION FOUND\n",
      "NO SOLUTION FOUND\n",
      "NO SOLUTION FOUND\n",
      "NO SOLUTION FOUND\n",
      "NO SOLUTION FOUND\n",
      "NO SOLUTION FOUND\n",
      "NO SOLUTION FOUND\n",
      "NO SOLUTION FOUND\n",
      "NO SOLUTION FOUND\n",
      "NO SOLUTION FOUND\n",
      "NO SOLUTION FOUND\n",
      "NO SOLUTION FOUND\n",
      "NO SOLUTION FOUND\n",
      "NO SOLUTION FOUND\n",
      "CPU times: total: 5min 20s\n",
      "Wall time: 5min 21s\n"
     ]
    }
   ],
   "source": [
    "%%time\n",
    "for i in range(20):\n",
    "    run_case4(20000, heuristic_score, 0.1)"
   ]
  },
  {
   "cell_type": "markdown",
   "id": "e95d0daf",
   "metadata": {},
   "source": [
    " "
   ]
  },
  {
   "cell_type": "markdown",
   "id": "dc743e00",
   "metadata": {},
   "source": [
    "  "
   ]
  },
  {
   "cell_type": "markdown",
   "id": "1cefefd8",
   "metadata": {},
   "source": [
    " "
   ]
  },
  {
   "cell_type": "markdown",
   "id": "1c41b7a0",
   "metadata": {},
   "source": [
    "## We will test the algorithm for the first heuristic with budget 1000, and c = 0,5"
   ]
  },
  {
   "cell_type": "code",
   "execution_count": 30,
   "id": "9d45d2e5",
   "metadata": {},
   "outputs": [
    {
     "name": "stdout",
     "output_type": "stream",
     "text": [
      "NO SOLUTION FOUND\n",
      "NO SOLUTION FOUND\n",
      "NO SOLUTION FOUND\n",
      "NO SOLUTION FOUND\n",
      "NO SOLUTION FOUND\n",
      "NO SOLUTION FOUND\n",
      "solved cube!\n",
      "Total number of nodes discovered: 879\n",
      "Length of the solution is: 5\n",
      "Solution is:\n",
      "['502511322234300144145035', '500111252232303444143550', '550021514242303440113352', '050511114242333340405252', '000011112222333344445555']\n",
      "solved cube!\n",
      "Total number of nodes discovered: 880\n",
      "Length of the solution is: 5\n",
      "Solution is:\n",
      "['502511322234300144145035', '500111252232303444143550', '550021514242303440113352', '050511114242333340405252', '000011112222333344445555']\n",
      "NO SOLUTION FOUND\n",
      "NO SOLUTION FOUND\n",
      "NO SOLUTION FOUND\n",
      "NO SOLUTION FOUND\n",
      "solved cube!\n",
      "Total number of nodes discovered: 377\n",
      "Length of the solution is: 5\n",
      "Solution is:\n",
      "['502511322234300144145035', '500111252232303444143550', '550021514242303440113352', '050511114242333340405252', '000011112222333344445555']\n",
      "NO SOLUTION FOUND\n",
      "NO SOLUTION FOUND\n",
      "NO SOLUTION FOUND\n",
      "solved cube!\n",
      "Total number of nodes discovered: 596\n",
      "Length of the solution is: 5\n",
      "Solution is:\n",
      "['502511322234300144145035', '500111252232303444143550', '550021514242303440113352', '050511114242333340405252', '000011112222333344445555']\n",
      "NO SOLUTION FOUND\n",
      "NO SOLUTION FOUND\n",
      "solved cube!\n",
      "Total number of nodes discovered: 603\n",
      "Length of the solution is: 5\n",
      "Solution is:\n",
      "['502511322234300144145035', '500111252232303444143550', '550021514242303440113352', '050511114242333340405252', '000011112222333344445555']\n",
      "CPU times: total: 6.77 s\n",
      "Wall time: 6.76 s\n"
     ]
    }
   ],
   "source": [
    "%%time\n",
    "for i in range(20):\n",
    "    run_case1(1000, heuristic_score, 0.5)"
   ]
  },
  {
   "cell_type": "code",
   "execution_count": 31,
   "id": "299fdc66",
   "metadata": {},
   "outputs": [
    {
     "name": "stdout",
     "output_type": "stream",
     "text": [
      "NO SOLUTION FOUND\n",
      "NO SOLUTION FOUND\n",
      "NO SOLUTION FOUND\n",
      "NO SOLUTION FOUND\n",
      "NO SOLUTION FOUND\n",
      "NO SOLUTION FOUND\n",
      "NO SOLUTION FOUND\n",
      "NO SOLUTION FOUND\n",
      "NO SOLUTION FOUND\n",
      "NO SOLUTION FOUND\n",
      "NO SOLUTION FOUND\n",
      "NO SOLUTION FOUND\n",
      "NO SOLUTION FOUND\n",
      "NO SOLUTION FOUND\n",
      "NO SOLUTION FOUND\n",
      "NO SOLUTION FOUND\n",
      "NO SOLUTION FOUND\n",
      "NO SOLUTION FOUND\n",
      "NO SOLUTION FOUND\n",
      "NO SOLUTION FOUND\n",
      "CPU times: total: 7.22 s\n",
      "Wall time: 7.22 s\n"
     ]
    }
   ],
   "source": [
    "%%time\n",
    "for i in range(20):\n",
    "    run_case2(1000, heuristic_score, 0.5)"
   ]
  },
  {
   "cell_type": "code",
   "execution_count": 32,
   "id": "aa2f1240",
   "metadata": {},
   "outputs": [
    {
     "name": "stdout",
     "output_type": "stream",
     "text": [
      "NO SOLUTION FOUND\n",
      "NO SOLUTION FOUND\n",
      "NO SOLUTION FOUND\n",
      "NO SOLUTION FOUND\n",
      "NO SOLUTION FOUND\n",
      "NO SOLUTION FOUND\n",
      "NO SOLUTION FOUND\n",
      "NO SOLUTION FOUND\n",
      "NO SOLUTION FOUND\n",
      "NO SOLUTION FOUND\n",
      "NO SOLUTION FOUND\n",
      "NO SOLUTION FOUND\n",
      "NO SOLUTION FOUND\n",
      "NO SOLUTION FOUND\n",
      "NO SOLUTION FOUND\n",
      "NO SOLUTION FOUND\n",
      "NO SOLUTION FOUND\n",
      "NO SOLUTION FOUND\n",
      "NO SOLUTION FOUND\n",
      "NO SOLUTION FOUND\n",
      "CPU times: total: 7.11 s\n",
      "Wall time: 7.1 s\n"
     ]
    }
   ],
   "source": [
    "%%time\n",
    "for i in range(20):\n",
    "    run_case3(1000, heuristic_score, 0.5)"
   ]
  },
  {
   "cell_type": "code",
   "execution_count": 33,
   "id": "1e2d929c",
   "metadata": {},
   "outputs": [
    {
     "name": "stdout",
     "output_type": "stream",
     "text": [
      "NO SOLUTION FOUND\n",
      "NO SOLUTION FOUND\n",
      "NO SOLUTION FOUND\n",
      "NO SOLUTION FOUND\n",
      "NO SOLUTION FOUND\n",
      "NO SOLUTION FOUND\n",
      "NO SOLUTION FOUND\n",
      "NO SOLUTION FOUND\n",
      "NO SOLUTION FOUND\n",
      "NO SOLUTION FOUND\n",
      "NO SOLUTION FOUND\n",
      "NO SOLUTION FOUND\n",
      "NO SOLUTION FOUND\n",
      "NO SOLUTION FOUND\n",
      "NO SOLUTION FOUND\n",
      "NO SOLUTION FOUND\n",
      "NO SOLUTION FOUND\n",
      "NO SOLUTION FOUND\n",
      "NO SOLUTION FOUND\n",
      "NO SOLUTION FOUND\n",
      "CPU times: total: 7.12 s\n",
      "Wall time: 7.12 s\n"
     ]
    }
   ],
   "source": [
    "%%time\n",
    "for i in range(20):\n",
    "    run_case4(1000, heuristic_score, 0.5)"
   ]
  },
  {
   "cell_type": "markdown",
   "id": "87c13d25",
   "metadata": {},
   "source": [
    " "
   ]
  },
  {
   "cell_type": "markdown",
   "id": "bd50db5c",
   "metadata": {},
   "source": [
    " "
   ]
  },
  {
   "cell_type": "markdown",
   "id": "e8cf8a0c",
   "metadata": {},
   "source": [
    " "
   ]
  },
  {
   "cell_type": "markdown",
   "id": "16ecb733",
   "metadata": {},
   "source": [
    "## We will test the algorithm for the first heuristic with budget 5000, and c = 0,5"
   ]
  },
  {
   "cell_type": "code",
   "execution_count": 34,
   "id": "d299ff2b",
   "metadata": {},
   "outputs": [
    {
     "name": "stdout",
     "output_type": "stream",
     "text": [
      "solved cube!\n",
      "Total number of nodes discovered: 4133\n",
      "Length of the solution is: 5\n",
      "Solution is:\n",
      "['502511322234300144145035', '500111252232303444143550', '550021514242303440113352', '050511114242333340405252', '000011112222333344445555']\n",
      "solved cube!\n",
      "Total number of nodes discovered: 2801\n",
      "Length of the solution is: 5\n",
      "Solution is:\n",
      "['502511322234300144145035', '500111252232303444143550', '550021514242303440113352', '050511114242333340405252', '000011112222333344445555']\n",
      "solved cube!\n",
      "Total number of nodes discovered: 1427\n",
      "Length of the solution is: 5\n",
      "Solution is:\n",
      "['502511322234300144145035', '500111252232303444143550', '550021514242303440113352', '050511114242333340405252', '000011112222333344445555']\n",
      "solved cube!\n",
      "Total number of nodes discovered: 819\n",
      "Length of the solution is: 5\n",
      "Solution is:\n",
      "['502511322234300144145035', '500111252232303444143550', '550021514242303440113352', '050511114242333340405252', '000011112222333344445555']\n",
      "solved cube!\n",
      "Total number of nodes discovered: 3351\n",
      "Length of the solution is: 5\n",
      "Solution is:\n",
      "['502511322234300144145035', '500111252232303444143550', '550021514242303440113352', '050511114242333340405252', '000011112222333344445555']\n",
      "solved cube!\n",
      "Total number of nodes discovered: 978\n",
      "Length of the solution is: 5\n",
      "Solution is:\n",
      "['502511322234300144145035', '500111252232303444143550', '550021514242303440113352', '050511114242333340405252', '000011112222333344445555']\n",
      "solved cube!\n",
      "Total number of nodes discovered: 2499\n",
      "Length of the solution is: 5\n",
      "Solution is:\n",
      "['502511322234300144145035', '500111252232303444143550', '550021514242303440113352', '050511114242333340405252', '000011112222333344445555']\n",
      "solved cube!\n",
      "Total number of nodes discovered: 2202\n",
      "Length of the solution is: 5\n",
      "Solution is:\n",
      "['502511322234300144145035', '500111252232303444143550', '550021514242303440113352', '050511114242333340405252', '000011112222333344445555']\n",
      "solved cube!\n",
      "Total number of nodes discovered: 988\n",
      "Length of the solution is: 5\n",
      "Solution is:\n",
      "['502511322234300144145035', '500111252232303444143550', '550021514242303440113352', '050511114242333340405252', '000011112222333344445555']\n",
      "solved cube!\n",
      "Total number of nodes discovered: 1023\n",
      "Length of the solution is: 5\n",
      "Solution is:\n",
      "['502511322234300144145035', '500111252232303444143550', '550021514242303440113352', '050511114242333340405252', '000011112222333344445555']\n",
      "NO SOLUTION FOUND\n",
      "solved cube!\n",
      "Total number of nodes discovered: 1301\n",
      "Length of the solution is: 5\n",
      "Solution is:\n",
      "['502511322234300144145035', '500111252232303444143550', '550021514242303440113352', '050511114242333340405252', '000011112222333344445555']\n",
      "solved cube!\n",
      "Total number of nodes discovered: 642\n",
      "Length of the solution is: 5\n",
      "Solution is:\n",
      "['502511322234300144145035', '500111252232303444143550', '550021514242303440113352', '050511114242333340405252', '000011112222333344445555']\n",
      "solved cube!\n",
      "Total number of nodes discovered: 1118\n",
      "Length of the solution is: 5\n",
      "Solution is:\n",
      "['502511322234300144145035', '500111252232303444143550', '550021514242303440113352', '050511114242333340405252', '000011112222333344445555']\n",
      "NO SOLUTION FOUND\n",
      "NO SOLUTION FOUND\n",
      "solved cube!\n",
      "Total number of nodes discovered: 1534\n",
      "Length of the solution is: 5\n",
      "Solution is:\n",
      "['502511322234300144145035', '500111252232303444143550', '550021514242303440113352', '050511114242333340405252', '000011112222333344445555']\n",
      "NO SOLUTION FOUND\n",
      "solved cube!\n",
      "Total number of nodes discovered: 292\n",
      "Length of the solution is: 5\n",
      "Solution is:\n",
      "['502511322234300144145035', '500111252232303444143550', '550021514242303440113352', '050511114242333340405252', '000011112222333344445555']\n",
      "solved cube!\n",
      "Total number of nodes discovered: 2977\n",
      "Length of the solution is: 5\n",
      "Solution is:\n",
      "['502511322234300144145035', '500111252232303444143550', '550021514242303440113352', '050511114242333340405252', '000011112222333344445555']\n",
      "CPU times: total: 18.7 s\n",
      "Wall time: 18.6 s\n"
     ]
    }
   ],
   "source": [
    "%%time\n",
    "for i in range(20):\n",
    "    run_case1(5000, heuristic_score, 0.5)"
   ]
  },
  {
   "cell_type": "code",
   "execution_count": 35,
   "id": "55aa95ab",
   "metadata": {},
   "outputs": [
    {
     "name": "stdout",
     "output_type": "stream",
     "text": [
      "solved cube!\n",
      "Total number of nodes discovered: 2085\n",
      "Length of the solution is: 7\n",
      "Solution is:\n",
      "['105043415224352340032115', '001513215224332040445315', '002113245220331540443551', '052121434200331540413255', '051521214243330040415352', '001111222233330044445555', '000011112222333344445555']\n",
      "NO SOLUTION FOUND\n",
      "solved cube!\n",
      "Total number of nodes discovered: 3186\n",
      "Length of the solution is: 7\n",
      "Solution is:\n",
      "['105043415224352340032115', '001513215224332040445315', '002113245220331540443551', '052121434200331540413255', '051521214243330040415352', '001111222233330044445555', '000011112222333344445555']\n",
      "NO SOLUTION FOUND\n",
      "NO SOLUTION FOUND\n",
      "solved cube!\n",
      "Total number of nodes discovered: 2015\n",
      "Length of the solution is: 7\n",
      "Solution is:\n",
      "['105043415224352340032115', '001513215224332040445315', '002113245220331540443551', '052121434200331540413255', '051521214243330040415352', '001111222233330044445555', '000011112222333344445555']\n",
      "NO SOLUTION FOUND\n",
      "solved cube!\n",
      "Total number of nodes discovered: 4492\n",
      "Length of the solution is: 7\n",
      "Solution is:\n",
      "['105043415224352340032115', '001513215224332040445315', '002113245220331540443551', '052121434200331540413255', '051521214243330040415352', '001111222233330044445555', '000011112222333344445555']\n",
      "solved cube!\n",
      "Total number of nodes discovered: 3933\n",
      "Length of the solution is: 7\n",
      "Solution is:\n",
      "['105043415224352340032115', '001513215224332040445315', '002113245220331540443551', '052121434200331540413255', '051521214243330040415352', '001111222233330044445555', '000011112222333344445555']\n",
      "solved cube!\n",
      "Total number of nodes discovered: 1621\n",
      "Length of the solution is: 7\n",
      "Solution is:\n",
      "['105043415224352340032115', '001513215224332040445315', '002113245220331540443551', '052121434200331540413255', '051521214243330040415352', '001111222233330044445555', '000011112222333344445555']\n",
      "solved cube!\n",
      "Total number of nodes discovered: 2381\n",
      "Length of the solution is: 7\n",
      "Solution is:\n",
      "['105043415224352340032115', '001513215224332040445315', '002113245220331540443551', '052121434200331540413255', '051521214243330040415352', '001111222233330044445555', '000011112222333344445555']\n",
      "NO SOLUTION FOUND\n",
      "solved cube!\n",
      "Total number of nodes discovered: 2685\n",
      "Length of the solution is: 7\n",
      "Solution is:\n",
      "['105043415224352340032115', '001513215224332040445315', '002113245220331540443551', '052121434200331540413255', '051521214243330040415352', '001111222233330044445555', '000011112222333344445555']\n",
      "solved cube!\n",
      "Total number of nodes discovered: 2876\n",
      "Length of the solution is: 7\n",
      "Solution is:\n",
      "['105043415224352340032115', '001513215224332040445315', '002113245220331540443551', '052121434200331540413255', '051521214243330040415352', '001111222233330044445555', '000011112222333344445555']\n",
      "NO SOLUTION FOUND\n",
      "solved cube!\n",
      "Total number of nodes discovered: 4677\n",
      "Length of the solution is: 7\n",
      "Solution is:\n",
      "['105043415224352340032115', '001513215224332040445315', '002113245220331540443551', '052121434200331540413255', '051521214243330040415352', '001111222233330044445555', '000011112222333344445555']\n",
      "solved cube!\n",
      "Total number of nodes discovered: 2566\n",
      "Length of the solution is: 7\n",
      "Solution is:\n",
      "['105043415224352340032115', '001513215224332040445315', '002113245220331540443551', '052121434200331540413255', '051521214243330040415352', '001111222233330044445555', '000011112222333344445555']\n",
      "solved cube!\n",
      "Total number of nodes discovered: 4762\n",
      "Length of the solution is: 7\n",
      "Solution is:\n",
      "['105043415224352340032115', '001513215224332040445315', '002113245220331540443551', '052121434200331540413255', '051521214243330040415352', '001111222233330044445555', '000011112222333344445555']\n",
      "solved cube!\n",
      "Total number of nodes discovered: 4208\n",
      "Length of the solution is: 7\n",
      "Solution is:\n",
      "['105043415224352340032115', '001513215224332040445315', '002113245220331540443551', '052121434200331540413255', '051521214243330040415352', '001111222233330044445555', '000011112222333344445555']\n",
      "solved cube!\n",
      "Total number of nodes discovered: 3566\n",
      "Length of the solution is: 7\n",
      "Solution is:\n",
      "['105043415224352340032115', '001513215224332040445315', '002113245220331540443551', '052121434200331540413255', '051521214243330040415352', '001111222233330044445555', '000011112222333344445555']\n",
      "CPU times: total: 31.8 s\n",
      "Wall time: 31.8 s\n"
     ]
    }
   ],
   "source": [
    "%%time\n",
    "for i in range(20):\n",
    "    run_case2(5000, heuristic_score, 0.5)"
   ]
  },
  {
   "cell_type": "code",
   "execution_count": 36,
   "id": "54175bd4",
   "metadata": {},
   "outputs": [
    {
     "name": "stdout",
     "output_type": "stream",
     "text": [
      "NO SOLUTION FOUND\n",
      "NO SOLUTION FOUND\n",
      "NO SOLUTION FOUND\n",
      "NO SOLUTION FOUND\n",
      "NO SOLUTION FOUND\n",
      "NO SOLUTION FOUND\n",
      "NO SOLUTION FOUND\n",
      "NO SOLUTION FOUND\n",
      "NO SOLUTION FOUND\n",
      "NO SOLUTION FOUND\n",
      "NO SOLUTION FOUND\n",
      "NO SOLUTION FOUND\n",
      "NO SOLUTION FOUND\n",
      "NO SOLUTION FOUND\n",
      "NO SOLUTION FOUND\n",
      "NO SOLUTION FOUND\n",
      "NO SOLUTION FOUND\n",
      "NO SOLUTION FOUND\n",
      "NO SOLUTION FOUND\n",
      "NO SOLUTION FOUND\n",
      "CPU times: total: 42.6 s\n",
      "Wall time: 42.6 s\n"
     ]
    }
   ],
   "source": [
    "%%time\n",
    "for i in range(20):\n",
    "    run_case3(5000, heuristic_score, 0.5)"
   ]
  },
  {
   "cell_type": "code",
   "execution_count": 37,
   "id": "add9fe14",
   "metadata": {},
   "outputs": [
    {
     "name": "stdout",
     "output_type": "stream",
     "text": [
      "NO SOLUTION FOUND\n",
      "NO SOLUTION FOUND\n",
      "NO SOLUTION FOUND\n",
      "NO SOLUTION FOUND\n",
      "NO SOLUTION FOUND\n",
      "NO SOLUTION FOUND\n",
      "NO SOLUTION FOUND\n",
      "NO SOLUTION FOUND\n",
      "NO SOLUTION FOUND\n",
      "NO SOLUTION FOUND\n",
      "NO SOLUTION FOUND\n",
      "NO SOLUTION FOUND\n",
      "NO SOLUTION FOUND\n",
      "NO SOLUTION FOUND\n",
      "NO SOLUTION FOUND\n",
      "NO SOLUTION FOUND\n",
      "NO SOLUTION FOUND\n",
      "NO SOLUTION FOUND\n",
      "NO SOLUTION FOUND\n",
      "NO SOLUTION FOUND\n",
      "CPU times: total: 46.8 s\n",
      "Wall time: 46.9 s\n"
     ]
    }
   ],
   "source": [
    "%%time\n",
    "for i in range(20):\n",
    "    run_case4(5000, heuristic_score, 0.5)"
   ]
  },
  {
   "cell_type": "markdown",
   "id": "8be94f44",
   "metadata": {},
   "source": [
    " "
   ]
  },
  {
   "cell_type": "markdown",
   "id": "30607e6f",
   "metadata": {},
   "source": [
    " "
   ]
  },
  {
   "cell_type": "markdown",
   "id": "6ff26e2b",
   "metadata": {},
   "source": [
    " "
   ]
  },
  {
   "cell_type": "markdown",
   "id": "2e1d56eb",
   "metadata": {},
   "source": [
    "## We will test the algorithm for the first heuristic with budget 10000, and c = 0,5"
   ]
  },
  {
   "cell_type": "code",
   "execution_count": 38,
   "id": "9e1ac2b9",
   "metadata": {},
   "outputs": [
    {
     "name": "stdout",
     "output_type": "stream",
     "text": [
      "NO SOLUTION FOUND\n",
      "NO SOLUTION FOUND\n",
      "solved cube!\n",
      "Total number of nodes discovered: 5087\n",
      "Length of the solution is: 5\n",
      "Solution is:\n",
      "['502511322234300144145035', '500111252232303444143550', '550021514242303440113352', '050511114242333340405252', '000011112222333344445555']\n",
      "solved cube!\n",
      "Total number of nodes discovered: 1872\n",
      "Length of the solution is: 5\n",
      "Solution is:\n",
      "['502511322234300144145035', '500111252232303444143550', '550021514242303440113352', '050511114242333340405252', '000011112222333344445555']\n",
      "solved cube!\n",
      "Total number of nodes discovered: 1578\n",
      "Length of the solution is: 5\n",
      "Solution is:\n",
      "['502511322234300144145035', '500111252232303444143550', '550021514242303440113352', '050511114242333340405252', '000011112222333344445555']\n",
      "solved cube!\n",
      "Total number of nodes discovered: 836\n",
      "Length of the solution is: 5\n",
      "Solution is:\n",
      "['502511322234300144145035', '500111252232303444143550', '550021514242303440113352', '050511114242333340405252', '000011112222333344445555']\n",
      "solved cube!\n",
      "Total number of nodes discovered: 1647\n",
      "Length of the solution is: 5\n",
      "Solution is:\n",
      "['502511322234300144145035', '500111252232303444143550', '550021514242303440113352', '050511114242333340405252', '000011112222333344445555']\n",
      "solved cube!\n",
      "Total number of nodes discovered: 901\n",
      "Length of the solution is: 5\n",
      "Solution is:\n",
      "['502511322234300144145035', '500111252232303444143550', '550021514242303440113352', '050511114242333340405252', '000011112222333344445555']\n",
      "solved cube!\n",
      "Total number of nodes discovered: 2103\n",
      "Length of the solution is: 5\n",
      "Solution is:\n",
      "['502511322234300144145035', '500111252232303444143550', '550021514242303440113352', '050511114242333340405252', '000011112222333344445555']\n",
      "NO SOLUTION FOUND\n",
      "solved cube!\n",
      "Total number of nodes discovered: 2888\n",
      "Length of the solution is: 5\n",
      "Solution is:\n",
      "['502511322234300144145035', '500111252232303444143550', '550021514242303440113352', '050511114242333340405252', '000011112222333344445555']\n",
      "NO SOLUTION FOUND\n",
      "NO SOLUTION FOUND\n",
      "solved cube!\n",
      "Total number of nodes discovered: 4141\n",
      "Length of the solution is: 5\n",
      "Solution is:\n",
      "['502511322234300144145035', '500111252232303444143550', '550021514242303440113352', '050511114242333340405252', '000011112222333344445555']\n",
      "solved cube!\n",
      "Total number of nodes discovered: 9013\n",
      "Length of the solution is: 7\n",
      "Solution is:\n",
      "['250011502242353444103351', '255011422234350044103135', '502511322234300144145035', '500111252232303444143550', '550021514242303440113352', '050511114242333340405252', '000011112222333344445555']\n",
      "solved cube!\n",
      "Total number of nodes discovered: 1152\n",
      "Length of the solution is: 5\n",
      "Solution is:\n",
      "['502511322234300144145035', '500111252232303444143550', '550021514242303440113352', '050511114242333340405252', '000011112222333344445555']\n",
      "solved cube!\n",
      "Total number of nodes discovered: 1379\n",
      "Length of the solution is: 5\n",
      "Solution is:\n",
      "['502511322234300144145035', '500111252232303444143550', '550021514242303440113352', '050511114242333340405252', '000011112222333344445555']\n",
      "solved cube!\n",
      "Total number of nodes discovered: 3335\n",
      "Length of the solution is: 5\n",
      "Solution is:\n",
      "['502511322234300144145035', '500111252232303444143550', '550021514242303440113352', '050511114242333340405252', '000011112222333344445555']\n",
      "solved cube!\n",
      "Total number of nodes discovered: 1022\n",
      "Length of the solution is: 5\n",
      "Solution is:\n",
      "['502511322234300144145035', '500111252232303444143550', '550021514242303440113352', '050511114242333340405252', '000011112222333344445555']\n",
      "solved cube!\n",
      "Total number of nodes discovered: 1190\n",
      "Length of the solution is: 5\n",
      "Solution is:\n",
      "['502511322234300144145035', '500111252232303444143550', '550021514242303440113352', '050511114242333340405252', '000011112222333344445555']\n",
      "CPU times: total: 38 s\n",
      "Wall time: 38 s\n"
     ]
    }
   ],
   "source": [
    "%%time\n",
    "for i in range(20):\n",
    "    run_case1(10000, heuristic_score, 0.5)"
   ]
  },
  {
   "cell_type": "code",
   "execution_count": 39,
   "id": "32d9f563",
   "metadata": {},
   "outputs": [
    {
     "name": "stdout",
     "output_type": "stream",
     "text": [
      "NO SOLUTION FOUND\n",
      "solved cube!\n",
      "Total number of nodes discovered: 3475\n",
      "Length of the solution is: 7\n",
      "Solution is:\n",
      "['105043415224352340032115', '001513215224332040445315', '002113245220331540443551', '052121434200331540413255', '051521214243330040415352', '001111222233330044445555', '000011112222333344445555']\n",
      "solved cube!\n",
      "Total number of nodes discovered: 2010\n",
      "Length of the solution is: 7\n",
      "Solution is:\n",
      "['105043415224352340032115', '001513215224332040445315', '002113245220331540443551', '052121434200331540413255', '051521214243330040415352', '001111222233330044445555', '000011112222333344445555']\n",
      "NO SOLUTION FOUND\n",
      "solved cube!\n",
      "Total number of nodes discovered: 3229\n",
      "Length of the solution is: 7\n",
      "Solution is:\n",
      "['105043415224352340032115', '001513215224332040445315', '002113245220331540443551', '052121434200331540413255', '051521214243330040415352', '001111222233330044445555', '000011112222333344445555']\n",
      "solved cube!\n",
      "Total number of nodes discovered: 3400\n",
      "Length of the solution is: 7\n",
      "Solution is:\n",
      "['105043415224352340032115', '001513215224332040445315', '002113245220331540443551', '052121434200331540413255', '051521214243330040415352', '001111222233330044445555', '000011112222333344445555']\n",
      "solved cube!\n",
      "Total number of nodes discovered: 2920\n",
      "Length of the solution is: 7\n",
      "Solution is:\n",
      "['105043415224352340032115', '001513215224332040445315', '002113245220331540443551', '052121434200331540413255', '051521214243330040415352', '001111222233330044445555', '000011112222333344445555']\n",
      "solved cube!\n",
      "Total number of nodes discovered: 2333\n",
      "Length of the solution is: 7\n",
      "Solution is:\n",
      "['105043415224352340032115', '001513215224332040445315', '002113245220331540443551', '052121434200331540413255', '051521214243330040415352', '001111222233330044445555', '000011112222333344445555']\n",
      "NO SOLUTION FOUND\n",
      "solved cube!\n",
      "Total number of nodes discovered: 3164\n",
      "Length of the solution is: 7\n",
      "Solution is:\n",
      "['105043415224352340032115', '001513215224332040445315', '002113245220331540443551', '052121434200331540413255', '051521214243330040415352', '001111222233330044445555', '000011112222333344445555']\n",
      "solved cube!\n",
      "Total number of nodes discovered: 3184\n",
      "Length of the solution is: 7\n",
      "Solution is:\n",
      "['105043415224352340032115', '001513215224332040445315', '002113245220331540443551', '052121434200331540413255', '051521214243330040415352', '001111222233330044445555', '000011112222333344445555']\n",
      "solved cube!\n",
      "Total number of nodes discovered: 2235\n",
      "Length of the solution is: 7\n",
      "Solution is:\n",
      "['105043415224352340032115', '001513215224332040445315', '002113245220331540443551', '052121434200331540413255', '051521214243330040415352', '001111222233330044445555', '000011112222333344445555']\n",
      "solved cube!\n",
      "Total number of nodes discovered: 2558\n",
      "Length of the solution is: 7\n",
      "Solution is:\n",
      "['105043415224352340032115', '001513215224332040445315', '002113245220331540443551', '052121434200331540413255', '051521214243330040415352', '001111222233330044445555', '000011112222333344445555']\n",
      "NO SOLUTION FOUND\n",
      "solved cube!\n",
      "Total number of nodes discovered: 2559\n",
      "Length of the solution is: 7\n",
      "Solution is:\n",
      "['105043415224352340032115', '001513215224332040445315', '002113245220331540443551', '052121434200331540413255', '051521214243330040415352', '001111222233330044445555', '000011112222333344445555']\n",
      "NO SOLUTION FOUND\n",
      "solved cube!\n",
      "Total number of nodes discovered: 1797\n",
      "Length of the solution is: 7\n",
      "Solution is:\n",
      "['105043415224352340032115', '001513215224332040445315', '002113245220331540443551', '052121434200331540413255', '051521214243330040415352', '001111222233330044445555', '000011112222333344445555']\n",
      "solved cube!\n",
      "Total number of nodes discovered: 2425\n",
      "Length of the solution is: 7\n",
      "Solution is:\n",
      "['105043415224352340032115', '001513215224332040445315', '002113245220331540443551', '052121434200331540413255', '051521214243330040415352', '001111222233330044445555', '000011112222333344445555']\n",
      "NO SOLUTION FOUND\n",
      "NO SOLUTION FOUND\n",
      "CPU times: total: 47.1 s\n",
      "Wall time: 47.1 s\n"
     ]
    }
   ],
   "source": [
    "%%time\n",
    "for i in range(20):\n",
    "    run_case2(10000, heuristic_score, 0.5)"
   ]
  },
  {
   "cell_type": "code",
   "execution_count": 40,
   "id": "aed34682",
   "metadata": {},
   "outputs": [
    {
     "name": "stdout",
     "output_type": "stream",
     "text": [
      "NO SOLUTION FOUND\n",
      "NO SOLUTION FOUND\n",
      "NO SOLUTION FOUND\n",
      "NO SOLUTION FOUND\n",
      "NO SOLUTION FOUND\n",
      "NO SOLUTION FOUND\n",
      "NO SOLUTION FOUND\n",
      "NO SOLUTION FOUND\n",
      "NO SOLUTION FOUND\n",
      "NO SOLUTION FOUND\n",
      "NO SOLUTION FOUND\n",
      "NO SOLUTION FOUND\n",
      "NO SOLUTION FOUND\n",
      "NO SOLUTION FOUND\n",
      "NO SOLUTION FOUND\n",
      "NO SOLUTION FOUND\n",
      "NO SOLUTION FOUND\n",
      "NO SOLUTION FOUND\n",
      "NO SOLUTION FOUND\n",
      "NO SOLUTION FOUND\n",
      "CPU times: total: 1min 36s\n",
      "Wall time: 1min 36s\n"
     ]
    }
   ],
   "source": [
    "%%time\n",
    "for i in range(20):\n",
    "    run_case3(10000, heuristic_score, 0.5)"
   ]
  },
  {
   "cell_type": "code",
   "execution_count": 41,
   "id": "8d5474c0",
   "metadata": {},
   "outputs": [
    {
     "name": "stdout",
     "output_type": "stream",
     "text": [
      "NO SOLUTION FOUND\n",
      "NO SOLUTION FOUND\n",
      "NO SOLUTION FOUND\n",
      "NO SOLUTION FOUND\n",
      "NO SOLUTION FOUND\n",
      "NO SOLUTION FOUND\n",
      "NO SOLUTION FOUND\n",
      "NO SOLUTION FOUND\n",
      "NO SOLUTION FOUND\n",
      "NO SOLUTION FOUND\n",
      "NO SOLUTION FOUND\n",
      "NO SOLUTION FOUND\n",
      "NO SOLUTION FOUND\n",
      "NO SOLUTION FOUND\n",
      "NO SOLUTION FOUND\n",
      "NO SOLUTION FOUND\n",
      "NO SOLUTION FOUND\n",
      "NO SOLUTION FOUND\n",
      "NO SOLUTION FOUND\n",
      "NO SOLUTION FOUND\n",
      "CPU times: total: 1min 52s\n",
      "Wall time: 1min 55s\n"
     ]
    }
   ],
   "source": [
    "%%time\n",
    "for i in range(20):\n",
    "    run_case4(10000, heuristic_score, 0.5)"
   ]
  },
  {
   "cell_type": "markdown",
   "id": "d8f3864a",
   "metadata": {},
   "source": [
    " "
   ]
  },
  {
   "cell_type": "markdown",
   "id": "fa46c3fb",
   "metadata": {},
   "source": [
    " "
   ]
  },
  {
   "cell_type": "markdown",
   "id": "42031531",
   "metadata": {},
   "source": [
    " "
   ]
  },
  {
   "cell_type": "markdown",
   "id": "a5f3b587",
   "metadata": {},
   "source": [
    "## We will test the algorithm for the first heuristic with budget 20000, and c = 0,5"
   ]
  },
  {
   "cell_type": "code",
   "execution_count": 42,
   "id": "d8c31bb8",
   "metadata": {},
   "outputs": [
    {
     "name": "stdout",
     "output_type": "stream",
     "text": [
      "solved cube!\n",
      "Total number of nodes discovered: 5869\n",
      "Length of the solution is: 5\n",
      "Solution is:\n",
      "['502511322234300144145035', '500111252232303444143550', '550021514242303440113352', '050511114242333340405252', '000011112222333344445555']\n",
      "solved cube!\n",
      "Total number of nodes discovered: 1566\n",
      "Length of the solution is: 5\n",
      "Solution is:\n",
      "['502511322234300144145035', '500111252232303444143550', '550021514242303440113352', '050511114242333340405252', '000011112222333344445555']\n",
      "solved cube!\n",
      "Total number of nodes discovered: 5425\n",
      "Length of the solution is: 5\n",
      "Solution is:\n",
      "['502511322234300144145035', '500111252232303444143550', '550021514242303440113352', '050511114242333340405252', '000011112222333344445555']\n",
      "solved cube!\n",
      "Total number of nodes discovered: 2288\n",
      "Length of the solution is: 5\n",
      "Solution is:\n",
      "['502511322234300144145035', '500111252232303444143550', '550021514242303440113352', '050511114242333340405252', '000011112222333344445555']\n",
      "solved cube!\n",
      "Total number of nodes discovered: 1179\n",
      "Length of the solution is: 5\n",
      "Solution is:\n",
      "['502511322234300144145035', '500111252232303444143550', '550021514242303440113352', '050511114242333340405252', '000011112222333344445555']\n",
      "solved cube!\n",
      "Total number of nodes discovered: 7581\n",
      "Length of the solution is: 5\n",
      "Solution is:\n",
      "['502511322234300144145035', '500111252232303444143550', '550021514242303440113352', '050511114242333340405252', '000011112222333344445555']\n",
      "solved cube!\n",
      "Total number of nodes discovered: 1267\n",
      "Length of the solution is: 5\n",
      "Solution is:\n",
      "['502511322234300144145035', '500111252232303444143550', '550021514242303440113352', '050511114242333340405252', '000011112222333344445555']\n",
      "solved cube!\n",
      "Total number of nodes discovered: 1376\n",
      "Length of the solution is: 5\n",
      "Solution is:\n",
      "['502511322234300144145035', '500111252232303444143550', '550021514242303440113352', '050511114242333340405252', '000011112222333344445555']\n",
      "solved cube!\n",
      "Total number of nodes discovered: 1185\n",
      "Length of the solution is: 5\n",
      "Solution is:\n",
      "['502511322234300144145035', '500111252232303444143550', '550021514242303440113352', '050511114242333340405252', '000011112222333344445555']\n",
      "solved cube!\n",
      "Total number of nodes discovered: 9430\n",
      "Length of the solution is: 5\n",
      "Solution is:\n",
      "['502511322234300144145035', '500111252232303444143550', '550021514242303440113352', '050511114242333340405252', '000011112222333344445555']\n",
      "solved cube!\n",
      "Total number of nodes discovered: 1440\n",
      "Length of the solution is: 5\n",
      "Solution is:\n",
      "['502511322234300144145035', '500111252232303444143550', '550021514242303440113352', '050511114242333340405252', '000011112222333344445555']\n",
      "solved cube!\n",
      "Total number of nodes discovered: 4559\n",
      "Length of the solution is: 5\n",
      "Solution is:\n",
      "['502511322234300144145035', '500111252232303444143550', '550021514242303440113352', '050511114242333340405252', '000011112222333344445555']\n",
      "solved cube!\n",
      "Total number of nodes discovered: 464\n",
      "Length of the solution is: 5\n",
      "Solution is:\n",
      "['502511322234300144145035', '500111252232303444143550', '550021514242303440113352', '050511114242333340405252', '000011112222333344445555']\n",
      "solved cube!\n",
      "Total number of nodes discovered: 2222\n",
      "Length of the solution is: 5\n",
      "Solution is:\n",
      "['502511322234300144145035', '500111252232303444143550', '550021514242303440113352', '050511114242333340405252', '000011112222333344445555']\n",
      "solved cube!\n",
      "Total number of nodes discovered: 5124\n",
      "Length of the solution is: 5\n",
      "Solution is:\n",
      "['502511322234300144145035', '500111252232303444143550', '550021514242303440113352', '050511114242333340405252', '000011112222333344445555']\n",
      "solved cube!\n",
      "Total number of nodes discovered: 6612\n",
      "Length of the solution is: 5\n",
      "Solution is:\n",
      "['502511322234300144145035', '500111252232303444143550', '550021514242303440113352', '050511114242333340405252', '000011112222333344445555']\n",
      "solved cube!\n",
      "Total number of nodes discovered: 918\n",
      "Length of the solution is: 5\n",
      "Solution is:\n",
      "['502511322234300144145035', '500111252232303444143550', '550021514242303440113352', '050511114242333340405252', '000011112222333344445555']\n",
      "solved cube!\n",
      "Total number of nodes discovered: 1418\n",
      "Length of the solution is: 5\n",
      "Solution is:\n",
      "['502511322234300144145035', '500111252232303444143550', '550021514242303440113352', '050511114242333340405252', '000011112222333344445555']\n",
      "solved cube!\n",
      "Total number of nodes discovered: 485\n",
      "Length of the solution is: 5\n",
      "Solution is:\n",
      "['502511322234300144145035', '500111252232303444143550', '550021514242303440113352', '050511114242333340405252', '000011112222333344445555']\n",
      "solved cube!\n",
      "Total number of nodes discovered: 776\n",
      "Length of the solution is: 5\n",
      "Solution is:\n",
      "['502511322234300144145035', '500111252232303444143550', '550021514242303440113352', '050511114242333340405252', '000011112222333344445555']\n",
      "CPU times: total: 26.6 s\n",
      "Wall time: 27.5 s\n"
     ]
    }
   ],
   "source": [
    "%%time\n",
    "for i in range(20):\n",
    "    run_case1(20000, heuristic_score, 0.5)"
   ]
  },
  {
   "cell_type": "code",
   "execution_count": 43,
   "id": "207bab52",
   "metadata": {},
   "outputs": [
    {
     "name": "stdout",
     "output_type": "stream",
     "text": [
      "NO SOLUTION FOUND\n",
      "solved cube!\n",
      "Total number of nodes discovered: 2126\n",
      "Length of the solution is: 7\n",
      "Solution is:\n",
      "['105043415224352340032115', '001513215224332040445315', '002113245220331540443551', '052121434200331540413255', '051521214243330040415352', '001111222233330044445555', '000011112222333344445555']\n",
      "NO SOLUTION FOUND\n",
      "solved cube!\n",
      "Total number of nodes discovered: 2683\n",
      "Length of the solution is: 7\n",
      "Solution is:\n",
      "['105043415224352340032115', '001513215224332040445315', '002113245220331540443551', '052121434200331540413255', '051521214243330040415352', '001111222233330044445555', '000011112222333344445555']\n",
      "solved cube!\n",
      "Total number of nodes discovered: 3723\n",
      "Length of the solution is: 7\n",
      "Solution is:\n",
      "['105043415224352340032115', '001513215224332040445315', '002113245220331540443551', '052121434200331540413255', '051521214243330040415352', '001111222233330044445555', '000011112222333344445555']\n",
      "solved cube!\n",
      "Total number of nodes discovered: 1538\n",
      "Length of the solution is: 7\n",
      "Solution is:\n",
      "['105043415224352340032115', '001513215224332040445315', '002113245220331540443551', '052121434200331540413255', '051521214243330040415352', '001111222233330044445555', '000011112222333344445555']\n",
      "solved cube!\n",
      "Total number of nodes discovered: 2249\n",
      "Length of the solution is: 7\n",
      "Solution is:\n",
      "['105043415224352340032115', '001513215224332040445315', '002113245220331540443551', '052121434200331540413255', '051521214243330040415352', '001111222233330044445555', '000011112222333344445555']\n",
      "solved cube!\n",
      "Total number of nodes discovered: 1917\n",
      "Length of the solution is: 7\n",
      "Solution is:\n",
      "['105043415224352340032115', '001513215224332040445315', '002113245220331540443551', '052121434200331540413255', '051521214243330040415352', '001111222233330044445555', '000011112222333344445555']\n",
      "solved cube!\n",
      "Total number of nodes discovered: 3502\n",
      "Length of the solution is: 7\n",
      "Solution is:\n",
      "['105043415224352340032115', '001513215224332040445315', '002113245220331540443551', '052121434200331540413255', '051521214243330040415352', '001111222233330044445555', '000011112222333344445555']\n",
      "NO SOLUTION FOUND\n",
      "NO SOLUTION FOUND\n",
      "solved cube!\n",
      "Total number of nodes discovered: 4577\n",
      "Length of the solution is: 7\n",
      "Solution is:\n",
      "['105043415224352340032115', '001513215224332040445315', '002113245220331540443551', '052121434200331540413255', '051521214243330040415352', '001111222233330044445555', '000011112222333344445555']\n",
      "solved cube!\n",
      "Total number of nodes discovered: 4642\n",
      "Length of the solution is: 7\n",
      "Solution is:\n",
      "['105043415224352340032115', '001513215224332040445315', '002113245220331540443551', '052121434200331540413255', '051521214243330040415352', '001111222233330044445555', '000011112222333344445555']\n",
      "solved cube!\n",
      "Total number of nodes discovered: 3224\n",
      "Length of the solution is: 7\n",
      "Solution is:\n",
      "['105043415224352340032115', '001513215224332040445315', '002113245220331540443551', '052121434200331540413255', '051521214243330040415352', '001111222233330044445555', '000011112222333344445555']\n",
      "solved cube!\n",
      "Total number of nodes discovered: 3700\n",
      "Length of the solution is: 7\n",
      "Solution is:\n",
      "['105043415224352340032115', '001513215224332040445315', '002113245220331540443551', '052121434200331540413255', '051521214243330040415352', '001111222233330044445555', '000011112222333344445555']\n",
      "solved cube!\n",
      "Total number of nodes discovered: 2926\n",
      "Length of the solution is: 7\n",
      "Solution is:\n",
      "['105043415224352340032115', '001513215224332040445315', '002113245220331540443551', '052121434200331540413255', '051521214243330040415352', '001111222233330044445555', '000011112222333344445555']\n",
      "solved cube!\n",
      "Total number of nodes discovered: 3533\n",
      "Length of the solution is: 7\n",
      "Solution is:\n",
      "['105043415224352340032115', '001513215224332040445315', '002113245220331540443551', '052121434200331540413255', '051521214243330040415352', '001111222233330044445555', '000011112222333344445555']\n",
      "NO SOLUTION FOUND\n",
      "solved cube!\n",
      "Total number of nodes discovered: 2836\n",
      "Length of the solution is: 7\n",
      "Solution is:\n",
      "['105043415224352340032115', '001513215224332040445315', '002113245220331540443551', '052121434200331540413255', '051521214243330040415352', '001111222233330044445555', '000011112222333344445555']\n",
      "NO SOLUTION FOUND\n",
      "CPU times: total: 1min 21s\n",
      "Wall time: 1min 24s\n"
     ]
    }
   ],
   "source": [
    "%%time\n",
    "for i in range(20):\n",
    "    run_case2(20000, heuristic_score, 0.5)"
   ]
  },
  {
   "cell_type": "code",
   "execution_count": 44,
   "id": "2d2189ed",
   "metadata": {},
   "outputs": [
    {
     "name": "stdout",
     "output_type": "stream",
     "text": [
      "NO SOLUTION FOUND\n",
      "NO SOLUTION FOUND\n",
      "NO SOLUTION FOUND\n",
      "NO SOLUTION FOUND\n",
      "NO SOLUTION FOUND\n",
      "NO SOLUTION FOUND\n",
      "NO SOLUTION FOUND\n",
      "NO SOLUTION FOUND\n",
      "NO SOLUTION FOUND\n",
      "NO SOLUTION FOUND\n",
      "NO SOLUTION FOUND\n",
      "NO SOLUTION FOUND\n",
      "NO SOLUTION FOUND\n",
      "NO SOLUTION FOUND\n",
      "solved cube!\n",
      "Total number of nodes discovered: 11588\n",
      "Length of the solution is: 11\n",
      "Solution is:\n",
      "['313201145214350542250430', '343010415224350541220135', '340510305241352441223051', '300131002211352444253455', '013041302211352244305455', '100341502211302344435255', '105041112223300344432555', '001551212223330444410355', '041111525233330442420055', '040411115252333342425050', '000011112222333344445555']\n",
      "NO SOLUTION FOUND\n",
      "NO SOLUTION FOUND\n",
      "NO SOLUTION FOUND\n",
      "NO SOLUTION FOUND\n",
      "NO SOLUTION FOUND\n",
      "CPU times: total: 3min 40s\n",
      "Wall time: 3min 47s\n"
     ]
    }
   ],
   "source": [
    "%%time\n",
    "for i in range(20):\n",
    "    run_case3(20000, heuristic_score, 0.5)"
   ]
  },
  {
   "cell_type": "code",
   "execution_count": 45,
   "id": "e8bf2b9c",
   "metadata": {},
   "outputs": [
    {
     "name": "stdout",
     "output_type": "stream",
     "text": [
      "NO SOLUTION FOUND\n",
      "NO SOLUTION FOUND\n",
      "NO SOLUTION FOUND\n",
      "NO SOLUTION FOUND\n",
      "NO SOLUTION FOUND\n",
      "NO SOLUTION FOUND\n",
      "NO SOLUTION FOUND\n",
      "NO SOLUTION FOUND\n",
      "NO SOLUTION FOUND\n",
      "NO SOLUTION FOUND\n",
      "NO SOLUTION FOUND\n",
      "NO SOLUTION FOUND\n",
      "NO SOLUTION FOUND\n",
      "NO SOLUTION FOUND\n",
      "NO SOLUTION FOUND\n",
      "NO SOLUTION FOUND\n",
      "NO SOLUTION FOUND\n",
      "NO SOLUTION FOUND\n",
      "NO SOLUTION FOUND\n",
      "NO SOLUTION FOUND\n",
      "CPU times: total: 4min 4s\n",
      "Wall time: 4min 11s\n"
     ]
    }
   ],
   "source": [
    "%%time\n",
    "for i in range(20):\n",
    "    run_case4(20000, heuristic_score, 0.5)"
   ]
  },
  {
   "cell_type": "markdown",
   "id": "93f61539",
   "metadata": {},
   "source": [
    " "
   ]
  },
  {
   "cell_type": "markdown",
   "id": "22a692f2",
   "metadata": {},
   "source": [
    " "
   ]
  },
  {
   "cell_type": "markdown",
   "id": "af662cf8",
   "metadata": {},
   "source": [
    " "
   ]
  },
  {
   "cell_type": "markdown",
   "id": "2ecbf090",
   "metadata": {},
   "source": [
    "## We will test the algorithm with the second heuristic with budget 1000, and c = 0,1"
   ]
  },
  {
   "cell_type": "code",
   "execution_count": 46,
   "id": "23033cd4",
   "metadata": {},
   "outputs": [
    {
     "name": "stdout",
     "output_type": "stream",
     "text": [
      "NO SOLUTION FOUND\n",
      "NO SOLUTION FOUND\n",
      "NO SOLUTION FOUND\n",
      "NO SOLUTION FOUND\n",
      "NO SOLUTION FOUND\n",
      "NO SOLUTION FOUND\n",
      "NO SOLUTION FOUND\n",
      "NO SOLUTION FOUND\n",
      "NO SOLUTION FOUND\n",
      "NO SOLUTION FOUND\n",
      "solved cube!\n",
      "Total number of nodes discovered: 73\n",
      "Length of the solution is: 5\n",
      "Solution is:\n",
      "['502511322234300144145035', '500111252232303444143550', '550021514242303440113352', '050511114242333340405252', '000011112222333344445555']\n",
      "NO SOLUTION FOUND\n",
      "NO SOLUTION FOUND\n",
      "NO SOLUTION FOUND\n",
      "NO SOLUTION FOUND\n",
      "NO SOLUTION FOUND\n",
      "NO SOLUTION FOUND\n",
      "NO SOLUTION FOUND\n",
      "NO SOLUTION FOUND\n",
      "solved cube!\n",
      "Total number of nodes discovered: 127\n",
      "Length of the solution is: 5\n",
      "Solution is:\n",
      "['502511322234300144145035', '500111252232303444143550', '550021514242303440113352', '050511114242333340405252', '000011112222333344445555']\n",
      "CPU times: total: 18.2 s\n",
      "Wall time: 18.2 s\n"
     ]
    }
   ],
   "source": [
    "%%time\n",
    "for i in range(20):\n",
    "    run_case1(1000, manhattan_distance_not_admissible, 0.1)"
   ]
  },
  {
   "cell_type": "code",
   "execution_count": 47,
   "id": "05f0be8d",
   "metadata": {},
   "outputs": [
    {
     "name": "stdout",
     "output_type": "stream",
     "text": [
      "NO SOLUTION FOUND\n",
      "NO SOLUTION FOUND\n",
      "NO SOLUTION FOUND\n",
      "NO SOLUTION FOUND\n",
      "NO SOLUTION FOUND\n",
      "NO SOLUTION FOUND\n",
      "NO SOLUTION FOUND\n",
      "NO SOLUTION FOUND\n",
      "NO SOLUTION FOUND\n",
      "NO SOLUTION FOUND\n",
      "NO SOLUTION FOUND\n",
      "NO SOLUTION FOUND\n",
      "NO SOLUTION FOUND\n",
      "NO SOLUTION FOUND\n",
      "NO SOLUTION FOUND\n",
      "NO SOLUTION FOUND\n",
      "NO SOLUTION FOUND\n",
      "NO SOLUTION FOUND\n",
      "NO SOLUTION FOUND\n",
      "NO SOLUTION FOUND\n",
      "CPU times: total: 21.1 s\n",
      "Wall time: 21.1 s\n"
     ]
    }
   ],
   "source": [
    "%%time\n",
    "for i in range(20):\n",
    "    run_case2(1000, manhattan_distance_not_admissible, 0.1)"
   ]
  },
  {
   "cell_type": "code",
   "execution_count": 48,
   "id": "1f7316c1",
   "metadata": {},
   "outputs": [
    {
     "name": "stdout",
     "output_type": "stream",
     "text": [
      "NO SOLUTION FOUND\n",
      "NO SOLUTION FOUND\n",
      "NO SOLUTION FOUND\n",
      "NO SOLUTION FOUND\n",
      "NO SOLUTION FOUND\n",
      "NO SOLUTION FOUND\n",
      "NO SOLUTION FOUND\n",
      "NO SOLUTION FOUND\n",
      "NO SOLUTION FOUND\n",
      "NO SOLUTION FOUND\n",
      "NO SOLUTION FOUND\n",
      "NO SOLUTION FOUND\n",
      "NO SOLUTION FOUND\n",
      "NO SOLUTION FOUND\n",
      "NO SOLUTION FOUND\n",
      "NO SOLUTION FOUND\n",
      "NO SOLUTION FOUND\n",
      "NO SOLUTION FOUND\n",
      "NO SOLUTION FOUND\n",
      "NO SOLUTION FOUND\n",
      "CPU times: total: 21.8 s\n",
      "Wall time: 21.8 s\n"
     ]
    }
   ],
   "source": [
    "%%time\n",
    "for i in range(20):\n",
    "    run_case3(1000, manhattan_distance_not_admissible, 0.1)"
   ]
  },
  {
   "cell_type": "code",
   "execution_count": 49,
   "id": "e9f82131",
   "metadata": {},
   "outputs": [
    {
     "name": "stdout",
     "output_type": "stream",
     "text": [
      "NO SOLUTION FOUND\n",
      "NO SOLUTION FOUND\n",
      "NO SOLUTION FOUND\n",
      "NO SOLUTION FOUND\n",
      "NO SOLUTION FOUND\n",
      "NO SOLUTION FOUND\n",
      "NO SOLUTION FOUND\n",
      "NO SOLUTION FOUND\n",
      "NO SOLUTION FOUND\n",
      "NO SOLUTION FOUND\n",
      "NO SOLUTION FOUND\n",
      "NO SOLUTION FOUND\n",
      "NO SOLUTION FOUND\n",
      "NO SOLUTION FOUND\n",
      "NO SOLUTION FOUND\n",
      "NO SOLUTION FOUND\n",
      "NO SOLUTION FOUND\n",
      "NO SOLUTION FOUND\n",
      "NO SOLUTION FOUND\n",
      "NO SOLUTION FOUND\n",
      "CPU times: total: 23.7 s\n",
      "Wall time: 24.2 s\n"
     ]
    }
   ],
   "source": [
    "%%time\n",
    "for i in range(20):\n",
    "    run_case4(1000, manhattan_distance_not_admissible, 0.1)"
   ]
  },
  {
   "cell_type": "markdown",
   "id": "72fdd611",
   "metadata": {},
   "source": [
    " "
   ]
  },
  {
   "cell_type": "markdown",
   "id": "e2225347",
   "metadata": {},
   "source": [
    " "
   ]
  },
  {
   "cell_type": "markdown",
   "id": "93532402",
   "metadata": {},
   "source": [
    " "
   ]
  },
  {
   "cell_type": "markdown",
   "id": "d52d806d",
   "metadata": {},
   "source": [
    "## We will test the algorithm with the second heuristic with budget 5000, and c = 0,1"
   ]
  },
  {
   "cell_type": "code",
   "execution_count": 50,
   "id": "2a1933f5",
   "metadata": {},
   "outputs": [
    {
     "name": "stdout",
     "output_type": "stream",
     "text": [
      "NO SOLUTION FOUND\n",
      "NO SOLUTION FOUND\n",
      "NO SOLUTION FOUND\n",
      "NO SOLUTION FOUND\n",
      "NO SOLUTION FOUND\n",
      "NO SOLUTION FOUND\n",
      "NO SOLUTION FOUND\n",
      "NO SOLUTION FOUND\n",
      "NO SOLUTION FOUND\n",
      "NO SOLUTION FOUND\n",
      "NO SOLUTION FOUND\n",
      "NO SOLUTION FOUND\n",
      "solved cube!\n",
      "Total number of nodes discovered: 36\n",
      "Length of the solution is: 5\n",
      "Solution is:\n",
      "['502511322234300144145035', '500111252232303444143550', '550021514242303440113352', '050511114242333340405252', '000011112222333344445555']\n",
      "NO SOLUTION FOUND\n",
      "NO SOLUTION FOUND\n",
      "NO SOLUTION FOUND\n",
      "NO SOLUTION FOUND\n",
      "NO SOLUTION FOUND\n",
      "NO SOLUTION FOUND\n",
      "NO SOLUTION FOUND\n",
      "CPU times: total: 2min 5s\n",
      "Wall time: 2min 6s\n"
     ]
    }
   ],
   "source": [
    "%%time\n",
    "for i in range(20):\n",
    "    run_case1(5000, manhattan_distance_not_admissible, 0.1)"
   ]
  },
  {
   "cell_type": "code",
   "execution_count": 51,
   "id": "70a44cce",
   "metadata": {},
   "outputs": [
    {
     "name": "stdout",
     "output_type": "stream",
     "text": [
      "NO SOLUTION FOUND\n",
      "NO SOLUTION FOUND\n",
      "NO SOLUTION FOUND\n",
      "NO SOLUTION FOUND\n",
      "NO SOLUTION FOUND\n",
      "NO SOLUTION FOUND\n",
      "NO SOLUTION FOUND\n",
      "NO SOLUTION FOUND\n",
      "NO SOLUTION FOUND\n",
      "NO SOLUTION FOUND\n",
      "NO SOLUTION FOUND\n",
      "NO SOLUTION FOUND\n",
      "NO SOLUTION FOUND\n",
      "NO SOLUTION FOUND\n",
      "NO SOLUTION FOUND\n",
      "NO SOLUTION FOUND\n",
      "NO SOLUTION FOUND\n",
      "NO SOLUTION FOUND\n",
      "NO SOLUTION FOUND\n",
      "NO SOLUTION FOUND\n",
      "CPU times: total: 2min 10s\n",
      "Wall time: 2min 11s\n"
     ]
    }
   ],
   "source": [
    "%%time\n",
    "for i in range(20):\n",
    "    run_case2(5000, manhattan_distance_not_admissible, 0.1)"
   ]
  },
  {
   "cell_type": "code",
   "execution_count": 52,
   "id": "39f64b65",
   "metadata": {},
   "outputs": [
    {
     "name": "stdout",
     "output_type": "stream",
     "text": [
      "NO SOLUTION FOUND\n",
      "NO SOLUTION FOUND\n",
      "NO SOLUTION FOUND\n",
      "NO SOLUTION FOUND\n",
      "NO SOLUTION FOUND\n",
      "NO SOLUTION FOUND\n",
      "NO SOLUTION FOUND\n",
      "NO SOLUTION FOUND\n",
      "NO SOLUTION FOUND\n",
      "NO SOLUTION FOUND\n",
      "NO SOLUTION FOUND\n",
      "NO SOLUTION FOUND\n",
      "NO SOLUTION FOUND\n",
      "NO SOLUTION FOUND\n",
      "NO SOLUTION FOUND\n",
      "NO SOLUTION FOUND\n",
      "NO SOLUTION FOUND\n",
      "NO SOLUTION FOUND\n",
      "NO SOLUTION FOUND\n",
      "NO SOLUTION FOUND\n",
      "CPU times: total: 2min 27s\n",
      "Wall time: 2min 33s\n"
     ]
    }
   ],
   "source": [
    "%%time\n",
    "for i in range(20):\n",
    "    run_case3(5000, manhattan_distance_not_admissible, 0.1)"
   ]
  },
  {
   "cell_type": "code",
   "execution_count": 53,
   "id": "1bbf581a",
   "metadata": {},
   "outputs": [
    {
     "name": "stdout",
     "output_type": "stream",
     "text": [
      "NO SOLUTION FOUND\n",
      "NO SOLUTION FOUND\n",
      "NO SOLUTION FOUND\n",
      "NO SOLUTION FOUND\n",
      "NO SOLUTION FOUND\n",
      "NO SOLUTION FOUND\n",
      "NO SOLUTION FOUND\n",
      "NO SOLUTION FOUND\n",
      "NO SOLUTION FOUND\n",
      "NO SOLUTION FOUND\n",
      "NO SOLUTION FOUND\n",
      "NO SOLUTION FOUND\n",
      "NO SOLUTION FOUND\n",
      "NO SOLUTION FOUND\n",
      "NO SOLUTION FOUND\n",
      "NO SOLUTION FOUND\n",
      "NO SOLUTION FOUND\n",
      "NO SOLUTION FOUND\n",
      "NO SOLUTION FOUND\n",
      "NO SOLUTION FOUND\n",
      "CPU times: total: 2min 23s\n",
      "Wall time: 2min 27s\n"
     ]
    }
   ],
   "source": [
    "%%time\n",
    "for i in range(20):\n",
    "    run_case4(5000, manhattan_distance_not_admissible, 0.1)"
   ]
  },
  {
   "cell_type": "markdown",
   "id": "be3c60b2",
   "metadata": {},
   "source": [
    " "
   ]
  },
  {
   "cell_type": "markdown",
   "id": "05db566c",
   "metadata": {},
   "source": [
    " "
   ]
  },
  {
   "cell_type": "markdown",
   "id": "93eee1fe",
   "metadata": {},
   "source": [
    " "
   ]
  },
  {
   "cell_type": "markdown",
   "id": "29a4c1ea",
   "metadata": {},
   "source": [
    "## We will test the algorithm with the second heuristic with budget 10000, and c = 0,1"
   ]
  },
  {
   "cell_type": "code",
   "execution_count": 54,
   "id": "ad9cfd14",
   "metadata": {},
   "outputs": [
    {
     "name": "stdout",
     "output_type": "stream",
     "text": [
      "NO SOLUTION FOUND\n",
      "NO SOLUTION FOUND\n",
      "NO SOLUTION FOUND\n",
      "NO SOLUTION FOUND\n",
      "solved cube!\n",
      "Total number of nodes discovered: 63\n",
      "Length of the solution is: 5\n",
      "Solution is:\n",
      "['502511322234300144145035', '500111252232303444143550', '550021514242303440113352', '050511114242333340405252', '000011112222333344445555']\n",
      "NO SOLUTION FOUND\n",
      "NO SOLUTION FOUND\n",
      "solved cube!\n",
      "Total number of nodes discovered: 92\n",
      "Length of the solution is: 7\n",
      "Solution is:\n",
      "['254211342200355044101533', '255011422234350044103135', '502511322234300144145035', '500111252232303444143550', '550021514242303440113352', '050511114242333340405252', '000011112222333344445555']\n",
      "NO SOLUTION FOUND\n",
      "NO SOLUTION FOUND\n",
      "NO SOLUTION FOUND\n",
      "NO SOLUTION FOUND\n",
      "NO SOLUTION FOUND\n",
      "NO SOLUTION FOUND\n",
      "NO SOLUTION FOUND\n",
      "NO SOLUTION FOUND\n",
      "NO SOLUTION FOUND\n",
      "NO SOLUTION FOUND\n",
      "NO SOLUTION FOUND\n",
      "NO SOLUTION FOUND\n",
      "CPU times: total: 4min 47s\n",
      "Wall time: 4min 49s\n"
     ]
    }
   ],
   "source": [
    "%%time\n",
    "for i in range(20):\n",
    "    run_case1(10000, manhattan_distance_not_admissible, 0.1)"
   ]
  },
  {
   "cell_type": "code",
   "execution_count": 55,
   "id": "88775484",
   "metadata": {},
   "outputs": [
    {
     "name": "stdout",
     "output_type": "stream",
     "text": [
      "NO SOLUTION FOUND\n",
      "NO SOLUTION FOUND\n",
      "NO SOLUTION FOUND\n",
      "NO SOLUTION FOUND\n",
      "NO SOLUTION FOUND\n",
      "NO SOLUTION FOUND\n",
      "NO SOLUTION FOUND\n",
      "NO SOLUTION FOUND\n",
      "NO SOLUTION FOUND\n",
      "NO SOLUTION FOUND\n",
      "NO SOLUTION FOUND\n",
      "NO SOLUTION FOUND\n",
      "NO SOLUTION FOUND\n",
      "NO SOLUTION FOUND\n",
      "NO SOLUTION FOUND\n",
      "NO SOLUTION FOUND\n",
      "NO SOLUTION FOUND\n",
      "NO SOLUTION FOUND\n",
      "NO SOLUTION FOUND\n",
      "NO SOLUTION FOUND\n",
      "CPU times: total: 5min 4s\n",
      "Wall time: 5min 5s\n"
     ]
    }
   ],
   "source": [
    "%%time\n",
    "for i in range(20):\n",
    "    run_case2(10000, manhattan_distance_not_admissible, 0.1)"
   ]
  },
  {
   "cell_type": "code",
   "execution_count": 56,
   "id": "8a84755c",
   "metadata": {},
   "outputs": [
    {
     "name": "stdout",
     "output_type": "stream",
     "text": [
      "NO SOLUTION FOUND\n",
      "NO SOLUTION FOUND\n",
      "NO SOLUTION FOUND\n",
      "NO SOLUTION FOUND\n",
      "NO SOLUTION FOUND\n",
      "NO SOLUTION FOUND\n",
      "NO SOLUTION FOUND\n",
      "NO SOLUTION FOUND\n",
      "NO SOLUTION FOUND\n",
      "NO SOLUTION FOUND\n",
      "NO SOLUTION FOUND\n",
      "NO SOLUTION FOUND\n",
      "NO SOLUTION FOUND\n",
      "NO SOLUTION FOUND\n",
      "NO SOLUTION FOUND\n",
      "NO SOLUTION FOUND\n",
      "NO SOLUTION FOUND\n",
      "NO SOLUTION FOUND\n",
      "NO SOLUTION FOUND\n",
      "NO SOLUTION FOUND\n",
      "CPU times: total: 5min 16s\n",
      "Wall time: 5min 16s\n"
     ]
    }
   ],
   "source": [
    "%%time\n",
    "for i in range(20):\n",
    "    run_case3(10000, manhattan_distance_not_admissible, 0.1)"
   ]
  },
  {
   "cell_type": "code",
   "execution_count": 57,
   "id": "6bf9f92b",
   "metadata": {},
   "outputs": [
    {
     "name": "stdout",
     "output_type": "stream",
     "text": [
      "NO SOLUTION FOUND\n",
      "NO SOLUTION FOUND\n",
      "NO SOLUTION FOUND\n",
      "NO SOLUTION FOUND\n",
      "NO SOLUTION FOUND\n",
      "NO SOLUTION FOUND\n",
      "NO SOLUTION FOUND\n",
      "NO SOLUTION FOUND\n",
      "NO SOLUTION FOUND\n",
      "NO SOLUTION FOUND\n",
      "NO SOLUTION FOUND\n",
      "NO SOLUTION FOUND\n",
      "NO SOLUTION FOUND\n",
      "NO SOLUTION FOUND\n",
      "NO SOLUTION FOUND\n",
      "NO SOLUTION FOUND\n",
      "NO SOLUTION FOUND\n",
      "NO SOLUTION FOUND\n",
      "NO SOLUTION FOUND\n",
      "NO SOLUTION FOUND\n",
      "CPU times: total: 5min 16s\n",
      "Wall time: 5min 16s\n"
     ]
    }
   ],
   "source": [
    "%%time\n",
    "for i in range(20):\n",
    "    run_case4(10000, manhattan_distance_not_admissible, 0.1)"
   ]
  },
  {
   "cell_type": "markdown",
   "id": "8b87cfdd",
   "metadata": {},
   "source": [
    " "
   ]
  },
  {
   "cell_type": "markdown",
   "id": "5e18258d",
   "metadata": {},
   "source": [
    " "
   ]
  },
  {
   "cell_type": "markdown",
   "id": "5fabce4a",
   "metadata": {},
   "source": [
    " "
   ]
  },
  {
   "cell_type": "markdown",
   "id": "8a5896ad",
   "metadata": {},
   "source": [
    "## We will test the algorithm with the second heuristic with budget 20000, and c = 0,1"
   ]
  },
  {
   "cell_type": "code",
   "execution_count": 58,
   "id": "983439ea",
   "metadata": {},
   "outputs": [
    {
     "name": "stdout",
     "output_type": "stream",
     "text": [
      "solved cube!\n",
      "Total number of nodes discovered: 107\n",
      "Length of the solution is: 9\n",
      "Solution is:\n",
      "['502511322234300144145035', '502531214244300140155332', '502511322234300144145035', '500111252232303444143550', '540415120252303443123051', '530252111202303445103454', '550021514242303440113352', '050511114242333340405252', '000011112222333344445555']\n",
      "NO SOLUTION FOUND\n",
      "NO SOLUTION FOUND\n",
      "NO SOLUTION FOUND\n",
      "NO SOLUTION FOUND\n",
      "NO SOLUTION FOUND\n",
      "NO SOLUTION FOUND\n",
      "NO SOLUTION FOUND\n",
      "NO SOLUTION FOUND\n",
      "NO SOLUTION FOUND\n",
      "NO SOLUTION FOUND\n",
      "NO SOLUTION FOUND\n",
      "NO SOLUTION FOUND\n",
      "NO SOLUTION FOUND\n",
      "NO SOLUTION FOUND\n",
      "NO SOLUTION FOUND\n",
      "NO SOLUTION FOUND\n",
      "NO SOLUTION FOUND\n",
      "solved cube!\n",
      "Total number of nodes discovered: 63\n",
      "Length of the solution is: 5\n",
      "Solution is:\n",
      "['502511322234300144145035', '500111252232303444143550', '550021514242303440113352', '050511114242333340405252', '000011112222333344445555']\n",
      "NO SOLUTION FOUND\n",
      "CPU times: total: 10min 16s\n",
      "Wall time: 10min 17s\n"
     ]
    }
   ],
   "source": [
    "%%time\n",
    "for i in range(20):\n",
    "    run_case1(20000, manhattan_distance_not_admissible, 0.1)"
   ]
  },
  {
   "cell_type": "code",
   "execution_count": 59,
   "id": "0c3d8143",
   "metadata": {},
   "outputs": [
    {
     "name": "stdout",
     "output_type": "stream",
     "text": [
      "NO SOLUTION FOUND\n",
      "NO SOLUTION FOUND\n",
      "NO SOLUTION FOUND\n",
      "NO SOLUTION FOUND\n",
      "NO SOLUTION FOUND\n",
      "NO SOLUTION FOUND\n",
      "NO SOLUTION FOUND\n",
      "NO SOLUTION FOUND\n",
      "NO SOLUTION FOUND\n",
      "NO SOLUTION FOUND\n",
      "NO SOLUTION FOUND\n",
      "NO SOLUTION FOUND\n",
      "NO SOLUTION FOUND\n",
      "NO SOLUTION FOUND\n",
      "NO SOLUTION FOUND\n",
      "NO SOLUTION FOUND\n",
      "NO SOLUTION FOUND\n",
      "NO SOLUTION FOUND\n",
      "NO SOLUTION FOUND\n",
      "NO SOLUTION FOUND\n",
      "CPU times: total: 10min 54s\n",
      "Wall time: 10min 55s\n"
     ]
    }
   ],
   "source": [
    "%%time\n",
    "for i in range(20):\n",
    "    run_case2(20000, manhattan_distance_not_admissible, 0.1)"
   ]
  },
  {
   "cell_type": "code",
   "execution_count": 22,
   "id": "09510c85",
   "metadata": {},
   "outputs": [
    {
     "name": "stdout",
     "output_type": "stream",
     "text": [
      "NO SOLUTION FOUND\n",
      "NO SOLUTION FOUND\n",
      "NO SOLUTION FOUND\n",
      "NO SOLUTION FOUND\n",
      "NO SOLUTION FOUND\n",
      "NO SOLUTION FOUND\n",
      "NO SOLUTION FOUND\n",
      "NO SOLUTION FOUND\n",
      "NO SOLUTION FOUND\n",
      "NO SOLUTION FOUND\n",
      "NO SOLUTION FOUND\n",
      "NO SOLUTION FOUND\n",
      "NO SOLUTION FOUND\n",
      "NO SOLUTION FOUND\n",
      "NO SOLUTION FOUND\n",
      "NO SOLUTION FOUND\n",
      "NO SOLUTION FOUND\n",
      "NO SOLUTION FOUND\n",
      "NO SOLUTION FOUND\n",
      "NO SOLUTION FOUND\n",
      "CPU times: total: 11min 1s\n",
      "Wall time: 11min 1s\n"
     ]
    }
   ],
   "source": [
    "%%time\n",
    "for i in range(20):\n",
    "    run_case3(20000, manhattan_distance_not_admissible, 0.1)"
   ]
  },
  {
   "cell_type": "code",
   "execution_count": 23,
   "id": "36e7972a",
   "metadata": {},
   "outputs": [
    {
     "name": "stdout",
     "output_type": "stream",
     "text": [
      "NO SOLUTION FOUND\n",
      "NO SOLUTION FOUND\n",
      "NO SOLUTION FOUND\n",
      "NO SOLUTION FOUND\n",
      "NO SOLUTION FOUND\n",
      "NO SOLUTION FOUND\n",
      "NO SOLUTION FOUND\n",
      "NO SOLUTION FOUND\n",
      "NO SOLUTION FOUND\n",
      "NO SOLUTION FOUND\n",
      "NO SOLUTION FOUND\n",
      "NO SOLUTION FOUND\n",
      "NO SOLUTION FOUND\n",
      "NO SOLUTION FOUND\n",
      "NO SOLUTION FOUND\n",
      "NO SOLUTION FOUND\n",
      "NO SOLUTION FOUND\n",
      "NO SOLUTION FOUND\n",
      "NO SOLUTION FOUND\n",
      "NO SOLUTION FOUND\n",
      "CPU times: total: 10min 55s\n",
      "Wall time: 10min 55s\n"
     ]
    }
   ],
   "source": [
    "%%time\n",
    "for i in range(20):\n",
    "    run_case4(20000, manhattan_distance_not_admissible, 0.1)"
   ]
  },
  {
   "cell_type": "markdown",
   "id": "086ffa36",
   "metadata": {},
   "source": [
    " "
   ]
  },
  {
   "cell_type": "markdown",
   "id": "01589365",
   "metadata": {},
   "source": [
    " "
   ]
  },
  {
   "cell_type": "markdown",
   "id": "80d1d9c7",
   "metadata": {},
   "source": [
    " "
   ]
  },
  {
   "cell_type": "markdown",
   "id": "1cc49b88",
   "metadata": {},
   "source": [
    "## We will test the algorithm with the second heuristic with budget 1000, and c = 0.5"
   ]
  },
  {
   "cell_type": "code",
   "execution_count": 13,
   "id": "a0ffa24f",
   "metadata": {},
   "outputs": [
    {
     "name": "stdout",
     "output_type": "stream",
     "text": [
      "solved cube!\n",
      "Total number of nodes discovered: 856\n",
      "Length of the solution is: 7\n",
      "Solution is:\n",
      "['502511322234300144145035', '500111252232303444143550', '051011452232333544402150', '500111252232303444143550', '550021514242303440113352', '050511114242333340405252', '000011112222333344445555']\n",
      "NO SOLUTION FOUND\n",
      "NO SOLUTION FOUND\n",
      "NO SOLUTION FOUND\n",
      "NO SOLUTION FOUND\n",
      "NO SOLUTION FOUND\n",
      "NO SOLUTION FOUND\n",
      "NO SOLUTION FOUND\n",
      "NO SOLUTION FOUND\n",
      "NO SOLUTION FOUND\n",
      "NO SOLUTION FOUND\n",
      "NO SOLUTION FOUND\n",
      "NO SOLUTION FOUND\n",
      "NO SOLUTION FOUND\n",
      "NO SOLUTION FOUND\n",
      "NO SOLUTION FOUND\n",
      "NO SOLUTION FOUND\n",
      "solved cube!\n",
      "Total number of nodes discovered: 72\n",
      "Length of the solution is: 5\n",
      "Solution is:\n",
      "['502511322234300144145035', '500111252232303444143550', '550021514242303440113352', '050511114242333340405252', '000011112222333344445555']\n",
      "NO SOLUTION FOUND\n",
      "NO SOLUTION FOUND\n",
      "CPU times: total: 16.5 s\n",
      "Wall time: 16.5 s\n"
     ]
    }
   ],
   "source": [
    "%%time\n",
    "for i in range(20):\n",
    "    run_case1(1000, manhattan_distance_not_admissible, 0.5)"
   ]
  },
  {
   "cell_type": "code",
   "execution_count": 15,
   "id": "6c78df2d",
   "metadata": {},
   "outputs": [
    {
     "name": "stdout",
     "output_type": "stream",
     "text": [
      "NO SOLUTION FOUND\n",
      "NO SOLUTION FOUND\n",
      "NO SOLUTION FOUND\n",
      "NO SOLUTION FOUND\n",
      "NO SOLUTION FOUND\n",
      "NO SOLUTION FOUND\n",
      "NO SOLUTION FOUND\n",
      "NO SOLUTION FOUND\n",
      "NO SOLUTION FOUND\n",
      "NO SOLUTION FOUND\n",
      "NO SOLUTION FOUND\n",
      "NO SOLUTION FOUND\n",
      "NO SOLUTION FOUND\n",
      "NO SOLUTION FOUND\n",
      "NO SOLUTION FOUND\n",
      "NO SOLUTION FOUND\n",
      "NO SOLUTION FOUND\n",
      "NO SOLUTION FOUND\n",
      "NO SOLUTION FOUND\n",
      "NO SOLUTION FOUND\n",
      "CPU times: total: 18.4 s\n",
      "Wall time: 18.3 s\n"
     ]
    }
   ],
   "source": [
    "%%time\n",
    "for i in range(20):\n",
    "    run_case2(1000, manhattan_distance_not_admissible, 0.5)"
   ]
  },
  {
   "cell_type": "code",
   "execution_count": 16,
   "id": "74f6611d",
   "metadata": {},
   "outputs": [
    {
     "name": "stdout",
     "output_type": "stream",
     "text": [
      "NO SOLUTION FOUND\n",
      "NO SOLUTION FOUND\n",
      "NO SOLUTION FOUND\n",
      "NO SOLUTION FOUND\n",
      "NO SOLUTION FOUND\n",
      "NO SOLUTION FOUND\n",
      "NO SOLUTION FOUND\n",
      "NO SOLUTION FOUND\n",
      "NO SOLUTION FOUND\n",
      "NO SOLUTION FOUND\n",
      "NO SOLUTION FOUND\n",
      "NO SOLUTION FOUND\n",
      "NO SOLUTION FOUND\n",
      "NO SOLUTION FOUND\n",
      "NO SOLUTION FOUND\n",
      "NO SOLUTION FOUND\n",
      "NO SOLUTION FOUND\n",
      "NO SOLUTION FOUND\n",
      "NO SOLUTION FOUND\n",
      "NO SOLUTION FOUND\n",
      "CPU times: total: 19.2 s\n",
      "Wall time: 19.2 s\n"
     ]
    }
   ],
   "source": [
    "%%time\n",
    "for i in range(20):\n",
    "    run_case3(1000, manhattan_distance_not_admissible, 0.5)"
   ]
  },
  {
   "cell_type": "code",
   "execution_count": 17,
   "id": "b83ff1ac",
   "metadata": {},
   "outputs": [
    {
     "name": "stdout",
     "output_type": "stream",
     "text": [
      "NO SOLUTION FOUND\n",
      "NO SOLUTION FOUND\n",
      "NO SOLUTION FOUND\n",
      "NO SOLUTION FOUND\n",
      "NO SOLUTION FOUND\n",
      "NO SOLUTION FOUND\n",
      "NO SOLUTION FOUND\n",
      "NO SOLUTION FOUND\n",
      "NO SOLUTION FOUND\n",
      "NO SOLUTION FOUND\n",
      "NO SOLUTION FOUND\n",
      "NO SOLUTION FOUND\n",
      "NO SOLUTION FOUND\n",
      "NO SOLUTION FOUND\n",
      "NO SOLUTION FOUND\n",
      "NO SOLUTION FOUND\n",
      "NO SOLUTION FOUND\n",
      "NO SOLUTION FOUND\n",
      "NO SOLUTION FOUND\n",
      "NO SOLUTION FOUND\n",
      "CPU times: total: 19 s\n",
      "Wall time: 19 s\n"
     ]
    }
   ],
   "source": [
    "%%time\n",
    "for i in range(20):\n",
    "    run_case4(1000, manhattan_distance_not_admissible, 0.5)"
   ]
  },
  {
   "cell_type": "markdown",
   "id": "2c69fa8f",
   "metadata": {},
   "source": [
    " "
   ]
  },
  {
   "cell_type": "markdown",
   "id": "f51cfc35",
   "metadata": {},
   "source": [
    " "
   ]
  },
  {
   "cell_type": "markdown",
   "id": "fa9bb2d3",
   "metadata": {},
   "source": [
    " "
   ]
  },
  {
   "cell_type": "markdown",
   "id": "8dca83ac",
   "metadata": {},
   "source": [
    "## We will test the algorithm with the second heuristic with budget 5000, and c = 0.5"
   ]
  },
  {
   "cell_type": "code",
   "execution_count": 18,
   "id": "c38d8324",
   "metadata": {},
   "outputs": [
    {
     "name": "stdout",
     "output_type": "stream",
     "text": [
      "NO SOLUTION FOUND\n",
      "NO SOLUTION FOUND\n",
      "NO SOLUTION FOUND\n",
      "NO SOLUTION FOUND\n",
      "solved cube!\n",
      "Total number of nodes discovered: 99\n",
      "Length of the solution is: 5\n",
      "Solution is:\n",
      "['502511322234300144145035', '500111252232303444143550', '550021514242303440113352', '050511114242333340405252', '000011112222333344445555']\n",
      "NO SOLUTION FOUND\n",
      "NO SOLUTION FOUND\n",
      "NO SOLUTION FOUND\n",
      "NO SOLUTION FOUND\n",
      "NO SOLUTION FOUND\n",
      "NO SOLUTION FOUND\n",
      "NO SOLUTION FOUND\n",
      "NO SOLUTION FOUND\n",
      "NO SOLUTION FOUND\n",
      "NO SOLUTION FOUND\n",
      "NO SOLUTION FOUND\n",
      "NO SOLUTION FOUND\n",
      "NO SOLUTION FOUND\n",
      "NO SOLUTION FOUND\n",
      "NO SOLUTION FOUND\n",
      "CPU times: total: 1min 33s\n",
      "Wall time: 1min 33s\n"
     ]
    }
   ],
   "source": [
    "%%time\n",
    "for i in range(20):\n",
    "    run_case1(5000, manhattan_distance_not_admissible, 0.5)"
   ]
  },
  {
   "cell_type": "code",
   "execution_count": 19,
   "id": "2bfe1cbe",
   "metadata": {},
   "outputs": [
    {
     "name": "stdout",
     "output_type": "stream",
     "text": [
      "NO SOLUTION FOUND\n",
      "NO SOLUTION FOUND\n",
      "NO SOLUTION FOUND\n",
      "NO SOLUTION FOUND\n",
      "NO SOLUTION FOUND\n",
      "NO SOLUTION FOUND\n",
      "NO SOLUTION FOUND\n",
      "NO SOLUTION FOUND\n",
      "NO SOLUTION FOUND\n",
      "NO SOLUTION FOUND\n",
      "NO SOLUTION FOUND\n",
      "NO SOLUTION FOUND\n",
      "NO SOLUTION FOUND\n",
      "NO SOLUTION FOUND\n",
      "NO SOLUTION FOUND\n",
      "NO SOLUTION FOUND\n",
      "NO SOLUTION FOUND\n",
      "NO SOLUTION FOUND\n",
      "NO SOLUTION FOUND\n",
      "NO SOLUTION FOUND\n",
      "CPU times: total: 1min 40s\n",
      "Wall time: 1min 40s\n"
     ]
    }
   ],
   "source": [
    "%%time\n",
    "for i in range(20):\n",
    "    run_case2(5000, manhattan_distance_not_admissible, 0.5)"
   ]
  },
  {
   "cell_type": "code",
   "execution_count": 20,
   "id": "7a27d487",
   "metadata": {},
   "outputs": [
    {
     "name": "stdout",
     "output_type": "stream",
     "text": [
      "NO SOLUTION FOUND\n",
      "NO SOLUTION FOUND\n",
      "NO SOLUTION FOUND\n",
      "NO SOLUTION FOUND\n",
      "NO SOLUTION FOUND\n",
      "NO SOLUTION FOUND\n",
      "NO SOLUTION FOUND\n",
      "NO SOLUTION FOUND\n",
      "NO SOLUTION FOUND\n",
      "NO SOLUTION FOUND\n",
      "NO SOLUTION FOUND\n",
      "NO SOLUTION FOUND\n",
      "NO SOLUTION FOUND\n",
      "NO SOLUTION FOUND\n",
      "NO SOLUTION FOUND\n",
      "NO SOLUTION FOUND\n",
      "NO SOLUTION FOUND\n",
      "NO SOLUTION FOUND\n",
      "NO SOLUTION FOUND\n",
      "NO SOLUTION FOUND\n",
      "CPU times: total: 1min 45s\n",
      "Wall time: 1min 45s\n"
     ]
    }
   ],
   "source": [
    "%%time\n",
    "for i in range(20):\n",
    "    run_case3(5000, manhattan_distance_not_admissible, 0.5)"
   ]
  },
  {
   "cell_type": "code",
   "execution_count": 21,
   "id": "d17c2552",
   "metadata": {},
   "outputs": [
    {
     "name": "stdout",
     "output_type": "stream",
     "text": [
      "NO SOLUTION FOUND\n",
      "NO SOLUTION FOUND\n",
      "NO SOLUTION FOUND\n",
      "NO SOLUTION FOUND\n",
      "NO SOLUTION FOUND\n",
      "NO SOLUTION FOUND\n",
      "NO SOLUTION FOUND\n",
      "NO SOLUTION FOUND\n",
      "NO SOLUTION FOUND\n",
      "NO SOLUTION FOUND\n",
      "NO SOLUTION FOUND\n",
      "NO SOLUTION FOUND\n",
      "NO SOLUTION FOUND\n",
      "NO SOLUTION FOUND\n",
      "NO SOLUTION FOUND\n",
      "NO SOLUTION FOUND\n",
      "NO SOLUTION FOUND\n",
      "NO SOLUTION FOUND\n",
      "NO SOLUTION FOUND\n",
      "NO SOLUTION FOUND\n",
      "CPU times: total: 1min 45s\n",
      "Wall time: 1min 44s\n"
     ]
    }
   ],
   "source": [
    "%%time\n",
    "for i in range(20):\n",
    "    run_case4(5000, manhattan_distance_not_admissible, 0.5)"
   ]
  },
  {
   "cell_type": "markdown",
   "id": "d73e504f",
   "metadata": {},
   "source": [
    " "
   ]
  },
  {
   "cell_type": "markdown",
   "id": "fd145cb8",
   "metadata": {},
   "source": [
    " "
   ]
  },
  {
   "cell_type": "markdown",
   "id": "440dbd0e",
   "metadata": {},
   "source": [
    " "
   ]
  },
  {
   "cell_type": "markdown",
   "id": "00471665",
   "metadata": {},
   "source": [
    "## We will test the algorithm with the second heuristic with budget 10000, and c = 0.5"
   ]
  },
  {
   "cell_type": "code",
   "execution_count": 24,
   "id": "b71345e2",
   "metadata": {},
   "outputs": [
    {
     "name": "stdout",
     "output_type": "stream",
     "text": [
      "NO SOLUTION FOUND\n",
      "NO SOLUTION FOUND\n",
      "NO SOLUTION FOUND\n",
      "NO SOLUTION FOUND\n",
      "NO SOLUTION FOUND\n",
      "NO SOLUTION FOUND\n",
      "NO SOLUTION FOUND\n",
      "NO SOLUTION FOUND\n",
      "solved cube!\n",
      "Total number of nodes discovered: 129\n",
      "Length of the solution is: 5\n",
      "Solution is:\n",
      "['502511322234300144145035', '500111252232303444143550', '550021514242303440113352', '050511114242333340405252', '000011112222333344445555']\n",
      "NO SOLUTION FOUND\n",
      "NO SOLUTION FOUND\n",
      "NO SOLUTION FOUND\n",
      "solved cube!\n",
      "Total number of nodes discovered: 122\n",
      "Length of the solution is: 5\n",
      "Solution is:\n",
      "['502511322234300144145035', '500111252232303444143550', '550021514242303440113352', '050511114242333340405252', '000011112222333344445555']\n",
      "NO SOLUTION FOUND\n",
      "NO SOLUTION FOUND\n",
      "NO SOLUTION FOUND\n",
      "NO SOLUTION FOUND\n",
      "NO SOLUTION FOUND\n",
      "solved cube!\n",
      "Total number of nodes discovered: 180\n",
      "Length of the solution is: 7\n",
      "Solution is:\n",
      "['502511322234300144145035', '500111252232303444143550', '051011452232333544402150', '500111252232303444143550', '550021514242303440113352', '050511114242333340405252', '000011112222333344445555']\n",
      "NO SOLUTION FOUND\n",
      "CPU times: total: 2min 54s\n",
      "Wall time: 2min 54s\n"
     ]
    }
   ],
   "source": [
    "%%time\n",
    "for i in range(20):\n",
    "    run_case1(10000, manhattan_distance_not_admissible, 0.5)"
   ]
  },
  {
   "cell_type": "code",
   "execution_count": 25,
   "id": "30cd18a8",
   "metadata": {},
   "outputs": [
    {
     "name": "stdout",
     "output_type": "stream",
     "text": [
      "NO SOLUTION FOUND\n",
      "NO SOLUTION FOUND\n",
      "NO SOLUTION FOUND\n",
      "NO SOLUTION FOUND\n",
      "NO SOLUTION FOUND\n",
      "NO SOLUTION FOUND\n",
      "NO SOLUTION FOUND\n",
      "NO SOLUTION FOUND\n",
      "NO SOLUTION FOUND\n",
      "NO SOLUTION FOUND\n",
      "NO SOLUTION FOUND\n",
      "NO SOLUTION FOUND\n",
      "NO SOLUTION FOUND\n",
      "NO SOLUTION FOUND\n",
      "NO SOLUTION FOUND\n",
      "NO SOLUTION FOUND\n",
      "NO SOLUTION FOUND\n",
      "NO SOLUTION FOUND\n",
      "NO SOLUTION FOUND\n",
      "NO SOLUTION FOUND\n",
      "CPU times: total: 3min 38s\n",
      "Wall time: 3min 38s\n"
     ]
    }
   ],
   "source": [
    "%%time\n",
    "for i in range(20):\n",
    "    run_case2(10000, manhattan_distance_not_admissible, 0.5)"
   ]
  },
  {
   "cell_type": "code",
   "execution_count": 26,
   "id": "c807776b",
   "metadata": {},
   "outputs": [
    {
     "name": "stdout",
     "output_type": "stream",
     "text": [
      "NO SOLUTION FOUND\n",
      "NO SOLUTION FOUND\n",
      "NO SOLUTION FOUND\n",
      "NO SOLUTION FOUND\n",
      "NO SOLUTION FOUND\n",
      "NO SOLUTION FOUND\n",
      "NO SOLUTION FOUND\n",
      "NO SOLUTION FOUND\n",
      "NO SOLUTION FOUND\n",
      "NO SOLUTION FOUND\n",
      "NO SOLUTION FOUND\n",
      "NO SOLUTION FOUND\n",
      "NO SOLUTION FOUND\n",
      "NO SOLUTION FOUND\n",
      "NO SOLUTION FOUND\n",
      "NO SOLUTION FOUND\n",
      "NO SOLUTION FOUND\n",
      "NO SOLUTION FOUND\n",
      "NO SOLUTION FOUND\n",
      "NO SOLUTION FOUND\n",
      "CPU times: total: 3min 38s\n",
      "Wall time: 3min 38s\n"
     ]
    }
   ],
   "source": [
    "%%time\n",
    "for i in range(20):\n",
    "    run_case3(10000, manhattan_distance_not_admissible, 0.5)"
   ]
  },
  {
   "cell_type": "code",
   "execution_count": 27,
   "id": "0db708d8",
   "metadata": {},
   "outputs": [
    {
     "name": "stdout",
     "output_type": "stream",
     "text": [
      "NO SOLUTION FOUND\n",
      "NO SOLUTION FOUND\n",
      "NO SOLUTION FOUND\n",
      "NO SOLUTION FOUND\n",
      "NO SOLUTION FOUND\n",
      "NO SOLUTION FOUND\n",
      "NO SOLUTION FOUND\n",
      "NO SOLUTION FOUND\n",
      "NO SOLUTION FOUND\n",
      "NO SOLUTION FOUND\n",
      "NO SOLUTION FOUND\n",
      "NO SOLUTION FOUND\n",
      "NO SOLUTION FOUND\n",
      "NO SOLUTION FOUND\n",
      "NO SOLUTION FOUND\n",
      "NO SOLUTION FOUND\n",
      "NO SOLUTION FOUND\n",
      "NO SOLUTION FOUND\n",
      "NO SOLUTION FOUND\n",
      "NO SOLUTION FOUND\n",
      "CPU times: total: 3min 43s\n",
      "Wall time: 3min 43s\n"
     ]
    }
   ],
   "source": [
    "%%time\n",
    "for i in range(20):\n",
    "    run_case4(10000, manhattan_distance_not_admissible, 0.5)"
   ]
  },
  {
   "cell_type": "markdown",
   "id": "7ce9df18",
   "metadata": {},
   "source": [
    " "
   ]
  },
  {
   "cell_type": "markdown",
   "id": "5c75638a",
   "metadata": {},
   "source": [
    " "
   ]
  },
  {
   "cell_type": "markdown",
   "id": "15cc4aca",
   "metadata": {},
   "source": [
    " "
   ]
  },
  {
   "cell_type": "markdown",
   "id": "fabe29d6",
   "metadata": {},
   "source": [
    "## We will test the algorithm with the second heuristic with budget 20000, and c = 0.5"
   ]
  },
  {
   "cell_type": "code",
   "execution_count": 28,
   "id": "3a097e51",
   "metadata": {},
   "outputs": [
    {
     "name": "stdout",
     "output_type": "stream",
     "text": [
      "solved cube!\n",
      "Total number of nodes discovered: 72\n",
      "Length of the solution is: 5\n",
      "Solution is:\n",
      "['502511322234300144145035', '500111252232303444143550', '550021514242303440113352', '050511114242333340405252', '000011112222333344445555']\n",
      "NO SOLUTION FOUND\n",
      "NO SOLUTION FOUND\n",
      "NO SOLUTION FOUND\n",
      "NO SOLUTION FOUND\n",
      "NO SOLUTION FOUND\n",
      "NO SOLUTION FOUND\n",
      "NO SOLUTION FOUND\n",
      "NO SOLUTION FOUND\n",
      "NO SOLUTION FOUND\n",
      "NO SOLUTION FOUND\n",
      "NO SOLUTION FOUND\n",
      "NO SOLUTION FOUND\n",
      "NO SOLUTION FOUND\n",
      "NO SOLUTION FOUND\n",
      "NO SOLUTION FOUND\n",
      "NO SOLUTION FOUND\n",
      "NO SOLUTION FOUND\n",
      "NO SOLUTION FOUND\n",
      "NO SOLUTION FOUND\n",
      "CPU times: total: 7min\n",
      "Wall time: 7min 1s\n"
     ]
    }
   ],
   "source": [
    "%%time\n",
    "for i in range(20):\n",
    "    run_case1(20000, manhattan_distance_not_admissible, 0.5)"
   ]
  },
  {
   "cell_type": "code",
   "execution_count": 29,
   "id": "972d6049",
   "metadata": {},
   "outputs": [
    {
     "name": "stdout",
     "output_type": "stream",
     "text": [
      "NO SOLUTION FOUND\n",
      "NO SOLUTION FOUND\n",
      "NO SOLUTION FOUND\n",
      "NO SOLUTION FOUND\n",
      "NO SOLUTION FOUND\n",
      "NO SOLUTION FOUND\n",
      "NO SOLUTION FOUND\n",
      "NO SOLUTION FOUND\n",
      "NO SOLUTION FOUND\n",
      "NO SOLUTION FOUND\n",
      "NO SOLUTION FOUND\n",
      "NO SOLUTION FOUND\n",
      "NO SOLUTION FOUND\n",
      "NO SOLUTION FOUND\n",
      "NO SOLUTION FOUND\n",
      "NO SOLUTION FOUND\n",
      "NO SOLUTION FOUND\n",
      "NO SOLUTION FOUND\n",
      "NO SOLUTION FOUND\n",
      "NO SOLUTION FOUND\n",
      "CPU times: total: 7min 40s\n",
      "Wall time: 7min 40s\n"
     ]
    }
   ],
   "source": [
    "%%time\n",
    "for i in range(20):\n",
    "    run_case2(20000, manhattan_distance_not_admissible, 0.5)"
   ]
  },
  {
   "cell_type": "code",
   "execution_count": 30,
   "id": "3d748bfc",
   "metadata": {},
   "outputs": [
    {
     "name": "stdout",
     "output_type": "stream",
     "text": [
      "NO SOLUTION FOUND\n",
      "NO SOLUTION FOUND\n",
      "NO SOLUTION FOUND\n",
      "NO SOLUTION FOUND\n",
      "NO SOLUTION FOUND\n",
      "NO SOLUTION FOUND\n",
      "NO SOLUTION FOUND\n",
      "NO SOLUTION FOUND\n",
      "NO SOLUTION FOUND\n",
      "NO SOLUTION FOUND\n",
      "NO SOLUTION FOUND\n",
      "NO SOLUTION FOUND\n",
      "NO SOLUTION FOUND\n",
      "NO SOLUTION FOUND\n",
      "NO SOLUTION FOUND\n",
      "NO SOLUTION FOUND\n",
      "NO SOLUTION FOUND\n",
      "NO SOLUTION FOUND\n",
      "NO SOLUTION FOUND\n",
      "NO SOLUTION FOUND\n",
      "CPU times: total: 7min 49s\n",
      "Wall time: 7min 49s\n"
     ]
    }
   ],
   "source": [
    "%%time\n",
    "for i in range(20):\n",
    "    run_case3(20000, manhattan_distance_not_admissible, 0.5)"
   ]
  },
  {
   "cell_type": "code",
   "execution_count": 31,
   "id": "a1f2240c",
   "metadata": {},
   "outputs": [
    {
     "name": "stdout",
     "output_type": "stream",
     "text": [
      "NO SOLUTION FOUND\n",
      "NO SOLUTION FOUND\n",
      "NO SOLUTION FOUND\n",
      "NO SOLUTION FOUND\n",
      "NO SOLUTION FOUND\n",
      "NO SOLUTION FOUND\n",
      "NO SOLUTION FOUND\n",
      "NO SOLUTION FOUND\n",
      "NO SOLUTION FOUND\n",
      "NO SOLUTION FOUND\n",
      "NO SOLUTION FOUND\n",
      "NO SOLUTION FOUND\n",
      "NO SOLUTION FOUND\n",
      "NO SOLUTION FOUND\n",
      "NO SOLUTION FOUND\n",
      "NO SOLUTION FOUND\n",
      "NO SOLUTION FOUND\n",
      "NO SOLUTION FOUND\n",
      "NO SOLUTION FOUND\n",
      "NO SOLUTION FOUND\n",
      "CPU times: total: 8min 34s\n",
      "Wall time: 8min 34s\n"
     ]
    }
   ],
   "source": [
    "%%time\n",
    "for i in range(20):\n",
    "    run_case4(20000, manhattan_distance_not_admissible, 0.5)"
   ]
  }
 ],
 "metadata": {
  "kernelspec": {
   "display_name": "Python 3 (ipykernel)",
   "language": "python",
   "name": "python3"
  },
  "language_info": {
   "codemirror_mode": {
    "name": "ipython",
    "version": 3
   },
   "file_extension": ".py",
   "mimetype": "text/x-python",
   "name": "python",
   "nbconvert_exporter": "python",
   "pygments_lexer": "ipython3",
   "version": "3.11.5"
  }
 },
 "nbformat": 4,
 "nbformat_minor": 5
}
